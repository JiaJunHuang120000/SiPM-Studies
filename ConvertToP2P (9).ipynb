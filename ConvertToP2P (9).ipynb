{
 "cells": [
  {
   "cell_type": "markdown",
   "id": "4cfb0c2a",
   "metadata": {},
   "source": [
    "### Initialization Cell"
   ]
  },
  {
   "cell_type": "code",
   "execution_count": 5,
   "id": "15723055-1204-41e2-b577-5c2a0c90e515",
   "metadata": {
    "scrolled": true,
    "tags": []
   },
   "outputs": [],
   "source": [
    "import matplotlib.pyplot as plt\n",
    "from scipy.optimize import curve_fit\n",
    "from scipy.stats import chisquare\n",
    "import numpy as np, pandas as pd\n",
    "import lmfit\n",
    "\n",
    "def chi2(y,yfit):\n",
    "    res = 0\n",
    "    for i in range(len(yfit)):\n",
    "        res = res + (y[i]-yfit[i])**2/(0.9724)**2 #The denominator should be the unbias Sipm voltage in mV\n",
    "    return (res / len(yfit))\n",
    "\n",
    "def waveform(x, C, start, m, end, A, d):\n",
    "    condlist = [x < start, (x >= start) & (x < end), x >= end]\n",
    "    funclist = [lambda x: C, lambda x: m*x+(C - m*start), lambda x: (A*(np.exp(d*x)-np.exp(d*end)) + m*(end-start) + C)]\n",
    "    return np.piecewise(x, condlist, funclist)\n",
    "\n",
    "def gaus(x, normalization, location, stdev):\n",
    "    return normalization* np.exp(-0.5*((x - location)/stdev)**2)\n",
    "\n",
    "def findindex(xvals,xval): \n",
    "    minima = 66e6\n",
    "    for i,elem in enumerate(xvals):\n",
    "        # Update minimum difference from xval and index of the minimum difference\n",
    "        if abs(xval-elem) < minima: \n",
    "            minima = abs(xval-elem) \n",
    "            index = i\n",
    "    return index\n",
    "\n",
    "def get_chi2(fitparams,times,voltages):\n",
    "    startindex=1\n",
    "    for i in range(len(times)): \n",
    "        if times[i] < fitparams[1]: startindex = i\n",
    "        else: break\n",
    "    chisq = chi2(voltages[0:startindex],waveform(time[0:startindex], *fitparams))\n",
    "    return chisq\n",
    "\n",
    "def get_amplitude_raw(voltages):\n",
    "    v_max=max(voltages)\n",
    "    v_min=min(voltages[0:findindex(voltages,v_max)+1])\n",
    "    return v_max-v_min\n",
    "\n",
    "def get_amplitude_base(fitparams,voltages):\n",
    "    v_min = fitparams[0]\n",
    "    v_max=max(voltages)\n",
    "    return v_max-v_min\n",
    "\n",
    "def get_amplitude_fit(fitparams):\n",
    "    linearrise = fitparams[2]*(fitparams[3]-fitparams[1])\n",
    "    return linearrise\n",
    "\n",
    "def get_time_raw(times,voltages):\n",
    "    prevoltages = voltages[0:findindex(voltages,max(voltages))]\n",
    "    halfamp = 0.5*(max(voltages)+min(prevoltages))\n",
    "    halfindex = findindex(voltages,max(voltages))\n",
    "    haltime = 0\n",
    "    while voltages[halfindex] - halfamp > 0:\n",
    "        halfindex -= 1\n",
    "    if abs(voltages[halfindex] - halfamp) < abs(voltages[halfindex + 1] - halfamp):\n",
    "        halftime = times[halfindex]\n",
    "    else: \n",
    "        halftime = times[halfindex + 1]\n",
    "    return halftime\n",
    "\n",
    "def get_time_base(fitparams,times,voltages):\n",
    "    halfamp = 0.5*(max(voltages)+fitparams[0])\n",
    "    halfindex = findindex(voltages,max(voltages))\n",
    "    haltime = 0\n",
    "    while voltages[halfindex] - halfamp > 0:\n",
    "        halfindex -= 1\n",
    "    if abs(voltages[halfindex] - halfamp) < abs(voltages[halfindex + 1] - halfamp):\n",
    "        halftime = times[halfindex]\n",
    "    else: \n",
    "        halftime = times[halfindex + 1]\n",
    "    return halftime\n",
    "\n",
    "def get_time_fit(fitparams):\n",
    "    pulse_time = fitparams[1]/2+fitparams[3]/2\n",
    "    return pulse_time\n",
    "\n",
    "def get_time_fit_CDF(fitparams):\n",
    "    pulse_time = fitparams[1]/2+fitparams[3]/2\n",
    "    return pulse_time\n",
    "\n",
    "def get_time_half(time, voltage):\n",
    "    max_index = findindex(voltage, np.max(voltage))\n",
    "    for i in range(15):\n",
    "        if voltage[max_index - i - 1] <= voltage[max_index - i]:\n",
    "            min_voltage = voltage[max_index - i - 1]\n",
    "    half = 0.5 * (np.max(voltage) + min_voltage)\n",
    "    index = 0\n",
    "    for i in range(15):\n",
    "        if np.abs(voltage[max_index - i - 1] - half) <= np.abs(voltage[max_index - i] - half):\n",
    "            index = i\n",
    "    return time[max_index - 1 - index]"
   ]
  },
  {
   "cell_type": "markdown",
   "id": "65193857",
   "metadata": {},
   "source": [
    "### User Defined Inputs"
   ]
  },
  {
   "cell_type": "code",
   "execution_count": 45,
   "id": "528722b2-f989-42d2-954b-2301d84f981f",
   "metadata": {
    "scrolled": true,
    "tags": []
   },
   "outputs": [],
   "source": [
    "inputfiles = [\"300002_short.txt\"]  #list input files\n",
    "outputfile = './rhtrigger15mVor.txt'          #set output file location\n",
    "filenumber = len(inputfiles)\n",
    "channelnum = [1,2,3,4]             #list DRS4 board channels to record, ranges 1 to 4\n",
    "eventview = False\n",
    "\n",
    "#choose which stats to analyze for each waveform\n",
    "do_chi2 = 1\n",
    "do_amplitude_raw = 1\n",
    "do_amplitude_fit = 1\n",
    "do_amplitude_base = 1\n",
    "do_time_raw = 1\n",
    "do_time_fit = 1\n",
    "do_time_CDF = 0\n",
    "do_time_base = 1\n",
    "\n",
    "\n",
    "#p0:C,start,m,end,A,d -- adjust start and end to match approx time of pulse falling edge\n",
    "p0=[(0,85,1,95,200,-0.01),       #ch1 initial parameters\n",
    "    (0,85,1,95,200,-0.01),       #ch2 initial parameters\n",
    "    (0,100,1,110,200,-0.01),        #ch3 initial parameters\n",
    "    (0,100,1,110,200,-0.01)]        #ch4 initial parameters\n",
    "#chi2cut = 2\n",
    "#Vcut = 20 #cut just above noise level, in (mV) \n",
    "\n",
    "channelnames=[]\n",
    "for ch in channelnum:\n",
    "    channelnames.append(f'ch{ch}')\n",
    "#Add each stat to the dataframe\n",
    "stats=[]\n",
    "if do_chi2: stats.append(\"chisq\")\n",
    "if do_amplitude_raw: stats.append(\"P2P_raw\")\n",
    "if do_amplitude_base: stats.append(\"P2P_base\")\n",
    "if do_amplitude_fit: stats.append(\"P2P_fit\")\n",
    "if do_time_raw: stats.append(\"time_raw\")\n",
    "if do_time_fit: stats.append(\"time_fit\")\n",
    "if do_time_CDF: stats.append(\"time_CDF\")\n",
    "if do_time_base: stats.append(\"time_base\")"
   ]
  },
  {
   "cell_type": "markdown",
   "id": "65dcfb66-53f6-4002-b8e3-428317733854",
   "metadata": {},
   "source": [
    "### Convert to P2P!"
   ]
  },
  {
   "cell_type": "code",
   "execution_count": 50,
   "id": "c3d87046",
   "metadata": {
    "tags": []
   },
   "outputs": [
    {
     "name": "stdout",
     "output_type": "stream",
     "text": [
      "Done!: 105, Channel: 4\n",
      "Total events analyzed: 105\n"
     ]
    }
   ],
   "source": [
    "din = {a+\"_\"+b:[] for a in channelnames for b in stats}\n",
    "\n",
    "with open(outputfile, 'w') as w:\n",
    "    #w.write(\"\")\n",
    "    for i in range(0, filenumber):                             #iterate through files\n",
    "        w.write(f\"File {i}, Channel(s) {channelnum}, stats {stats}\")\n",
    "        with open(inputfiles[i]) as f:\n",
    "            current_file = (f.read().split('-- Event'))\n",
    "        \n",
    "        for j in range(1, len(current_file)):                  #iterate through events \n",
    "            \n",
    "            time = np.array([])\n",
    "            voltage = [np.array([])]*4\n",
    "            lines = current_file[j].split('\\n')\n",
    "            \n",
    "            if eventview: #show the waveform fit line\n",
    "                print(f\"Event Number {j}\")\n",
    "                fig,ax = plt.subplots(1,4,figsize=(10,3))\n",
    "                ax[0].set_title(\"Ch. 1\")\n",
    "                ax[1].set_title(\"Ch. 2\")\n",
    "                ax[2].set_title(\"Ch. 3\")\n",
    "                ax[3].set_title(\"Ch. 4\")\n",
    "            \n",
    "            for line in lines[6:1028]:                         #iterate through data points\n",
    "                values = line.split()\n",
    "                time = np.append(time, float(values[2]))\n",
    "                for channel in channelnum:\n",
    "                    #if float(values[channel+2]) < Vcut: continue            #cut the false peaks from the DRS4 -- mismatches length of time list\n",
    "                    voltage[channel-1] = np.append(voltage[channel-1], float(values[channel+2]))\n",
    "            w.write('\\n')\n",
    "            for channel in channelnum:\n",
    "                print(f\"Event: {j}, Channel: {channel}\",end=\"\\r\") #,end=\"\\r\"\n",
    "                #only attempt a fit if it looks like there's not nothing\n",
    "                totalrms = sum((voltage[channel-1]-np.mean(voltage[channel-1]))**2)/len(voltage[channel-1])\n",
    "                voltage_smooth = []\n",
    "                for i in range(len(voltage[channel-1]) - 2):\n",
    "                    voltage_smooth.append((voltage[channel-1][i+1] + voltage[channel-1][i] + voltage[channel-1][i+2]) / 3)\n",
    "                voltage_smooth.append(voltage[channel-1][-1])\n",
    "                voltage_smooth.insert(0,voltage[channel-1][-1])\n",
    "                if totalrms < 5:\n",
    "                    popt = (np.mean(voltage[channel-1]),0,0,0,0,1)\n",
    "                    \n",
    "                    if do_chi2:\n",
    "                        chisq = 0\n",
    "                        din[f'ch{channel}_chisq'].append(chisq)\n",
    "                        w.write(f\"{chisq:.2f}\\t\")\n",
    "\n",
    "                    #calculate amplitude\n",
    "                    if do_amplitude_raw: \n",
    "                        amplitude = 0\n",
    "                        din[f'ch{channel}_P2P_raw'].append(amplitude)\n",
    "                        w.write(f\"{amplitude:.1f}\\t\")\n",
    "\n",
    "                    if do_amplitude_base: \n",
    "                        amplitude = 0\n",
    "                        din[f'ch{channel}_P2P_base'].append(amplitude)\n",
    "                        w.write(f\"{amplitude:.1f}\\t\")\n",
    "\n",
    "                    if do_amplitude_fit: \n",
    "                        amplitude = 0\n",
    "                        din[f'ch{channel}_P2P_fit'].append(amplitude)\n",
    "                        w.write(f\"{amplitude:.1f}\\t\")\n",
    "\n",
    "                    #calculate time\n",
    "                    if do_time_raw: \n",
    "                        pulse_time = 0\n",
    "                        din[f'ch{channel}_time_raw'].append(pulse_time)\n",
    "                        w.write(f\"{pulse_time:.1f}\\t\")\n",
    "\n",
    "                    if do_time_fit: \n",
    "                        pulse_time = 0\n",
    "                        din[f'ch{channel}_time_fit'].append(pulse_time)\n",
    "                        w.write(f\"{pulse_time:.1f}\\t\")\n",
    "\n",
    "                    if do_time_base:\n",
    "                        pulse_time = 0\n",
    "                        din[f'ch{channel}_time_base'].append(pulse_time)\n",
    "                        w.write(f\"{pulse_time:.1f}\\t\")\n",
    "\n",
    "                else:\n",
    "                    popt, pcov = curve_fit(waveform, time, voltage[channel-1],p0=p0[channel-1],\n",
    "                                           maxfev = 100000)#,bounds=([-10,60,0,60,0,-1],[10,140,100,140,3000,0])\n",
    "                #calculate chi^2\n",
    "                    if do_chi2:\n",
    "                        chisq = get_chi2(popt,time,voltage[channel-1])\n",
    "                        din[f'ch{channel}_chisq'].append(chisq)\n",
    "                        w.write(f\"{chisq:.2f}\\t\")\n",
    "\n",
    "                    #calculate amplitude\n",
    "                    if do_amplitude_raw: \n",
    "                        amplitude = get_amplitude_raw(voltage_smooth)\n",
    "                        din[f'ch{channel}_P2P_raw'].append(amplitude)\n",
    "                        w.write(f\"{amplitude:.1f}\\t\")\n",
    "\n",
    "                    if do_amplitude_base: \n",
    "                        amplitude = get_amplitude_base(popt,voltage_smooth)\n",
    "                        din[f'ch{channel}_P2P_base'].append(amplitude)\n",
    "                        w.write(f\"{amplitude:.1f}\\t\")\n",
    "\n",
    "                    if do_amplitude_fit: \n",
    "                        amplitude = get_amplitude_fit(popt)\n",
    "                        din[f'ch{channel}_P2P_fit'].append(amplitude)\n",
    "                        w.write(f\"{amplitude:.1f}\\t\")\n",
    "\n",
    "                    #calculate time\n",
    "                    if do_time_raw: \n",
    "                        pulse_time = get_time_raw(time,voltage_smooth)\n",
    "                        din[f'ch{channel}_time_raw'].append(pulse_time)\n",
    "                        w.write(f\"{pulse_time:.1f}\\t\")\n",
    "\n",
    "                    if do_time_fit: \n",
    "                        pulse_time = get_time_fit(popt)\n",
    "                        din[f'ch{channel}_time_fit'].append(pulse_time)\n",
    "                        w.write(f\"{pulse_time:.1f}\\t\")\n",
    "\n",
    "                    if do_time_base:\n",
    "                        pulse_time = get_time_base(popt, time, voltage_smooth)\n",
    "                        din[f'ch{channel}_time_base'].append(pulse_time)\n",
    "                        w.write(f\"{pulse_time:.1f}\\t\")\n",
    "\n",
    "                if eventview: #show the waveform fit line\n",
    "                    print(f\"Channel {channel} params: {popt[0]:.2f}, {popt[1]:.1f}, {popt[2]:.2f}, {popt[3]:.1f}, {popt[4]:.2f}, {popt[5]:.3f}\")\n",
    "                    xs = []\n",
    "                    ys = []\n",
    "                    for i in range(500):\n",
    "                        xs.append(i)\n",
    "                        ys.append(waveform(i,*popt))\n",
    "                    ax[channel-1].plot(time,voltage[channel-1],label=\"raw\")\n",
    "                    #ax[channel-1].plot(xs,ys,label=\"fit\")\n",
    "                    ax[channel-1].plot(time,voltage_smooth,label=\"smooth\",color = 'r')\n",
    "                    ax[channel-1].set_xlim(75,150)  \n",
    "                    ax[channel-1].set_ylim(-25,500)\n",
    "                    #draw the P2P and time \n",
    "                    if do_time_raw: ax[channel-1].vlines(get_time_raw(time,voltage[channel-1]),ymin=-50,ymax=100, color='r',label=\"t_raw\")\n",
    "                    if do_time_fit: ax[channel-1].vlines(get_time_fit(popt),ymin=-50,ymax=100, color='g',label=\"t_fit\")\n",
    "                    if do_time_base: ax[channel-1].vlines(get_time_base(popt,time,voltage[channel-1]),ymin=-50,ymax=100, color='b',label=\"t_base\")\n",
    "                    if do_amplitude_raw: ax[channel-1].hlines(get_amplitude_raw(voltage[channel-1]),xmin=0,xmax=200, color='r',label=\"A_raw\")\n",
    "                    if do_amplitude_fit: ax[channel-1].hlines(get_amplitude_fit(popt),xmin=0,xmax=200, color='g',label=\"A_fit\")\n",
    "                    if do_amplitude_base: ax[channel-1].hlines(get_amplitude_base(popt,voltage[channel-1]),xmin=0,xmax=200, color='b',label=\"A_base\")\n",
    "            \n",
    "            if eventview:\n",
    "                plt.legend()        \n",
    "                plt.show()\n",
    "                \n",
    "print(f'Done!\\nTotal events analyzed: {len(din[\"ch2_chisq\"])}')\n",
    "dfin = pd.DataFrame(din)"
   ]
  },
  {
   "cell_type": "code",
   "execution_count": 51,
   "id": "3208d0fb",
   "metadata": {},
   "outputs": [
    {
     "data": {
      "image/png": "[encoded data removed]",
      "text/plain": [
       "<Figure size 432x288 with 1 Axes>"
      ]
     },
     "metadata": {
      "needs_background": "light"
     },
     "output_type": "display_data"
    }
   ],
   "source": [
    "plt.scatter(dfin.query(\"ch3_P2P_fit>10 & ch4_P2P_fit>10\").ch3_time_fit,dfin.query(\"ch3_P2P_fit>10 & ch4_P2P_fit>10\").ch4_time_fit,label=f\"{len(dfin.query('ch3_P2P_fit>10 & ch4_P2P_fit>10').ch4_time_fit)} Events\")\n",
    "plt.plot(np.linspace(85,100,2),np.linspace(85,100,2),color=\"red\",label=\"L=R\")\n",
    "plt.xlabel(\"SiPM_L Signal Time\")\n",
    "plt.ylabel(\"SiPM_R Signal Time\")\n",
    "plt.legend()\n",
    "plt.show()"
   ]
  },
  {
   "cell_type": "markdown",
   "id": "7603a077",
   "metadata": {},
   "source": [
    "### How to read the output file into DataFrame:"
   ]
  },
  {
   "cell_type": "code",
   "execution_count": 52,
   "id": "b387b187",
   "metadata": {},
   "outputs": [],
   "source": [
    "with open(outputfile) as f:  \n",
    "    stats = []\n",
    "    nchannelnames=[]\n",
    "    nevents = (f.read().split('\\n'))\n",
    "    nchannelnums = nevents[0].split('[')[1].split(']')[0].split(', ')\n",
    "    for ch in nchannelnums:\n",
    "        nchannelnames.append(f'ch{ch}')\n",
    "    for i in range(len(nevents[0].split('[')[2].split(']')[0].split(\"'\"))//2):\n",
    "        stats.append(nevents[0].split('[')[2].split(']')[0].split(\"'\")[2*i+1])\n",
    "\n",
    "    dout = {a+\"_\"+b:[] for a in nchannelnames for b in stats}\n",
    "    for event in nevents[:]:\n",
    "        #print(f'Event: {event}')\n",
    "        nvalues = event.split()\n",
    "        if len(nvalues) != len(stats)*len(nchannelnames): continue\n",
    "        for i in range(len(nchannelnames)):\n",
    "            for j in range(len(stats)):\n",
    "                dout[f'{nchannelnames[i]}_{stats[j]}'].append(float(nvalues[len(stats)*i+j]))\n",
    "    #print(dout)\n",
    "dfout = pd.DataFrame(dout)"
   ]
  },
  {
   "cell_type": "code",
   "execution_count": 53,
   "id": "4a5bca42",
   "metadata": {},
   "outputs": [
    {
     "data": {
      "image/png": "[encoded data removed]",
      "text/plain": [
       "<Figure size 1080x360 with 3 Axes>"
      ]
     },
     "metadata": {
      "needs_background": "light"
     },
     "output_type": "display_data"
    }
   ],
   "source": [
    "fig,ax=plt.subplots(1,3,figsize=(15,5))\n",
    "\n",
    "ax[0].scatter(dfout.query(\"ch3_P2P_fit>10 & ch4_P2P_fit>10\").ch3_time_fit,dfout.query(\"ch3_P2P_fit>10 & ch4_P2P_fit>10\").ch4_time_fit,label=f\"fit, {len(dfin.query('ch3_P2P_fit>10 & ch4_P2P_fit>10').ch4_time_fit)} Events\")\n",
    "ax[1].scatter(dfout.query(\"ch3_P2P_raw>10 & ch4_P2P_raw>10\").ch3_time_raw,dfout.query(\"ch3_P2P_raw>10 & ch4_P2P_raw>10\").ch4_time_raw,label=f\"raw, {len(dfin.query('ch3_P2P_raw>10 & ch4_P2P_raw>10').ch4_time_raw)} Events\")\n",
    "ax[2].scatter(dfout.query(\"ch3_P2P_raw>10 & ch4_P2P_raw>10\").ch3_time_base,dfout.query(\"ch3_P2P_raw>10 & ch4_P2P_raw>10\").ch4_time_base,label=f\"raw, {len(dfin.query('ch3_P2P_raw>10 & ch4_P2P_raw>10').ch4_time_base)} Events\")\n",
    "ax[0].plot(np.linspace(85,100,2),np.linspace(85,100,2),color=\"red\",label=\"L=R\")\n",
    "ax[0].set_xlabel(\"SiPM_L Signal Fit Time\")\n",
    "ax[0].set_ylabel(\"SiPM_R Signal Fit Time\")\n",
    "ax[1].plot(np.linspace(0,400,2),np.linspace(0,400,2),color=\"red\",label=\"L=R\")\n",
    "ax[1].set_xlabel(\"SiPM_L Signal Raw Time\")\n",
    "ax[1].set_ylabel(\"SiPM_R Signal Raw Time\")\n",
    "ax[2].plot(np.linspace(0,400,2),np.linspace(0,400,2),color=\"red\",label=\"L=R\")\n",
    "ax[2].set_xlabel(\"SiPM_L Signal Base Time\")\n",
    "ax[2].set_ylabel(\"SiPM_R Signal Base Time\")\n",
    "ax[0].legend()\n",
    "ax[1].legend()\n",
    "ax[2].legend()\n",
    "plt.show()"
   ]
  },
  {
   "cell_type": "code",
   "execution_count": 42,
   "id": "aa8f0e47",
   "metadata": {},
   "outputs": [
    {
     "name": "stdout",
     "output_type": "stream",
     "text": [
      "Actual Average: 0.53, Actual st.dev.: 1.91\n",
      "Fit Average:    0.71, Fit st.dev.:    0.23\n"
     ]
    },
    {
     "data": {
      "image/png": "[encoded data removed]",
      "text/plain": [
       "<Figure size 432x288 with 1 Axes>"
      ]
     },
     "metadata": {
      "needs_background": "light"
     },
     "output_type": "display_data"
    }
   ],
   "source": [
    "count,binedges,bars=plt.hist(dfin.query(\"ch3_P2P_fit>10 & ch4_P2P_fit>10\").ch4_time_fit-dfin.query(\"ch3_P2P_fit>10 & ch4_P2P_fit>10\").ch3_time_fit,40, label=f\"{len(dfin.query('ch3_P2P_fit>10 & ch4_P2P_fit>10').ch4_time_fit)} Events\")\n",
    "\n",
    "bincenters = binedges[1:]/2+binedges[:-1]/2\n",
    "\n",
    "avg = sum(bincenters*count)/sum(count)\n",
    "stdev = np.sqrt(sum((bincenters-avg)**2*count)/sum(count))\n",
    "\n",
    "\n",
    "coeff, covar = curve_fit(gaus, bincenters, count)\n",
    "print(f\"Actual Average: {avg:.2f}, Actual st.dev.: {stdev:.2f}\")\n",
    "print(f\"Fit Average:    {coeff[1]:.2f}, Fit st.dev.:    {coeff[2]:.2f}\")\n",
    "\n",
    "plt.plot(np.linspace(-20,10,50),gaus(np.linspace(-20,10,50),*coeff),label=\"Gaussian Fit\")\n",
    "plt.xlabel(\"R-L Time Difference (ns)\")\n",
    "plt.legend()\n",
    "plt.show()"
   ]
  },
  {
   "cell_type": "code",
   "execution_count": 43,
   "id": "062e743f-d4e2-4e40-9752-ec2efee6a838",
   "metadata": {},
   "outputs": [
    {
     "name": "stdout",
     "output_type": "stream",
     "text": [
      "Actual Average: 1.43, Actual st.dev.: 2.96\n",
      "Fit Average:    -336.70, Fit st.dev.:    56.33\n"
     ]
    },
    {
     "data": {
      "image/png": "[encoded data removed]",
      "text/plain": [
       "<Figure size 432x288 with 1 Axes>"
      ]
     },
     "metadata": {
      "needs_background": "light"
     },
     "output_type": "display_data"
    }
   ],
   "source": [
    "count,binedges,bars=plt.hist(dfin.query(\"ch3_P2P_raw>10 & ch4_P2P_raw>10\").ch4_time_raw-dfin.query(\"ch3_P2P_raw>10 & ch4_P2P_raw>10\").ch3_time_raw,900, label=f\"{len(dfin.query('ch3_P2P_raw>10 & ch4_P2P_raw>10').ch4_time_raw)} Events\")\n",
    "\n",
    "bincenters = binedges[1:]/2+binedges[:-1]/2\n",
    "\n",
    "avg = sum(bincenters*count)/sum(count)\n",
    "stdev = np.sqrt(sum((bincenters-avg)**2*count)/sum(count))\n",
    "\n",
    "\n",
    "coeff, covar = curve_fit(gaus, bincenters, count,maxfev=1000000,p0=(2,-10,5))\n",
    "print(f\"Actual Average: {avg:.2f}, Actual st.dev.: {stdev:.2f}\")\n",
    "print(f\"Fit Average:    {coeff[1]:.2f}, Fit st.dev.:    {coeff[2]:.2f}\")\n",
    "\n",
    "plt.plot(np.linspace(-20,0,50),gaus(np.linspace(-20,0,50),*coeff),label=\"Gaussian Fit\")\n",
    "plt.xlabel(\"R-L Time Difference (ns)\")\n",
    "plt.xlim(-20,20)\n",
    "plt.legend()\n",
    "plt.show()"
   ]
  },
  {
   "cell_type": "code",
   "execution_count": 44,
   "id": "73c4a5d8-d143-424d-866f-52798470ca7d",
   "metadata": {},
   "outputs": [
    {
     "name": "stdout",
     "output_type": "stream",
     "text": [
      "Actual Average: 1.52, Actual st.dev.: 3.09\n",
      "Fit Average:    -338.50, Fit st.dev.:    48.24\n"
     ]
    },
    {
     "data": {
      "image/png": "[encoded data removed]",
      "text/plain": [
       "<Figure size 432x288 with 1 Axes>"
      ]
     },
     "metadata": {
      "needs_background": "light"
     },
     "output_type": "display_data"
    }
   ],
   "source": [
    "count,binedges,bars=plt.hist(dfin.query(\"ch3_P2P_raw>10 & ch4_P2P_raw>10\").ch4_time_base-dfin.query(\"ch3_P2P_raw>10 & ch4_P2P_raw>10\").ch3_time_base,900, label=f\"{len(dfin.query('ch3_P2P_raw>10 & ch4_P2P_raw>10').ch4_time_base)} Events\")\n",
    "\n",
    "bincenters = binedges[1:]/2+binedges[:-1]/2\n",
    "\n",
    "avg = sum(bincenters*count)/sum(count)\n",
    "stdev = np.sqrt(sum((bincenters-avg)**2*count)/sum(count))\n",
    "\n",
    "\n",
    "coeff, covar = curve_fit(gaus, bincenters, count,maxfev=10000000)\n",
    "print(f\"Actual Average: {avg:.2f}, Actual st.dev.: {stdev:.2f}\")\n",
    "print(f\"Fit Average:    {coeff[1]:.2f}, Fit st.dev.:    {coeff[2]:.2f}\")\n",
    "\n",
    "plt.plot(np.linspace(-10,10,50),gaus(np.linspace(-10,10,50),*coeff),label=\"Gaussian Fit\")\n",
    "plt.xlabel(\"R-L Time Difference (ns)\")\n",
    "plt.xlim(-20,20)\n",
    "plt.legend()\n",
    "plt.show()"
   ]
  },
  {
   "cell_type": "code",
   "execution_count": null,
   "id": "efca00e6-2903-44e2-a4ea-23dbb3e62027",
   "metadata": {},
   "outputs": [],
   "source": []
  }
 ],
 "metadata": {
  "kernelspec": {
   "display_name": "Python 3 (ipykernel)",
   "language": "python",
   "name": "python3"
  },
  "language_info": {
   "codemirror_mode": {
    "name": "ipython",
    "version": 3
   },
   "file_extension": ".py",
   "mimetype": "text/x-python",
   "name": "python",
   "nbconvert_exporter": "python",
   "pygments_lexer": "ipython3",
   "version": "3.9.7"
  }
 },
 "nbformat": 4,
 "nbformat_minor": 5
}
