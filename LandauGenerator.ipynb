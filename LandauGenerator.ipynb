{
 "cells": [
  {
   "cell_type": "code",
   "execution_count": 2,
   "id": "3e55e565-56bf-462e-8e63-cd23fb278e68",
   "metadata": {},
   "outputs": [],
   "source": [
    "\n",
    "def LandauInt(xs,location,scale,normalization):\n",
    "    #print(str(type(xs)))\n",
    "    if \"array\" in str(type(xs)):\n",
    "        outs = []\n",
    "        for x in xs:\n",
    "            #print(x)\n",
    "            u=(x-location)*4/scale\n",
    "            integral = 0\n",
    "\n",
    "            if u < -3.8: integral = 0\n",
    "            elif u < -3.4: \n",
    "                ts = np.linspace(0.00001,100,500000)\n",
    "                for t in ts:\n",
    "                    integral += (ts[1]-ts[0])*np.exp(-t*np.log(t)-u*t)*np.sin(np.pi*t)\n",
    "            elif u < -2.0: \n",
    "                ts = np.linspace(0.00001,50,250000)\n",
    "                for t in ts:\n",
    "                    integral += (ts[1]-ts[0])*np.exp(-t*np.log(t)-u*t)*np.sin(np.pi*t)\n",
    "            elif u < -1.2: \n",
    "                ts = np.linspace(0.00001,20,100000)\n",
    "                for t in ts:\n",
    "                    integral += (ts[1]-ts[0])*np.exp(-t*np.log(t)-u*t)*np.sin(np.pi*t)\n",
    "            elif u < -0.6: \n",
    "                ts = np.linspace(0.00001,20,50000)\n",
    "                for t in ts:\n",
    "                    integral += (ts[1]-ts[0])*np.exp(-t*np.log(t)-u*t)*np.sin(np.pi*t)\n",
    "            elif u < 1: \n",
    "                ts = np.linspace(0.00001,10,25000)\n",
    "                for t in ts:\n",
    "                    integral += (ts[1]-ts[0])*np.exp(-t*np.log(t)-u*t)*np.sin(np.pi*t)\n",
    "            elif u < 8: \n",
    "                ts = np.linspace(0.00001,5,10000)\n",
    "                for t in ts:\n",
    "                    integral += (ts[1]-ts[0])*np.exp(-t*np.log(t)-u*t)*np.sin(np.pi*t)\n",
    "            elif u < 20: \n",
    "                ts = np.linspace(0.00001,2,5000)\n",
    "                for t in ts:\n",
    "                    integral += (ts[1]-ts[0])*np.exp(-t*np.log(t)-u*t)*np.sin(np.pi*t)\n",
    "            elif u < 200: \n",
    "                ts = np.linspace(0.00001,1,2500)\n",
    "                for t in ts:\n",
    "                    integral += (ts[1]-ts[0])*np.exp(-t*np.log(t)-u*t)*np.sin(np.pi*t)\n",
    "            elif u < 2000: \n",
    "                ts = np.linspace(0.00001,0.5,1000)\n",
    "                for t in ts:\n",
    "                    integral += (ts[1]-ts[0])*np.exp(-t*np.log(t)-u*t)*np.sin(np.pi*t)\n",
    "            else: integral = 0\n",
    "            outs.append(integral*normalization/0.56188)\n",
    "        \n",
    "    elif \"int\" in str(type(xs)) or \"float\" in str(type(xs)):\n",
    "        #print(\"int number!\")\n",
    "        u=(xs-location)*4/scale\n",
    "        integral = 0\n",
    "    \n",
    "        if u < -3.8: integral = 0\n",
    "        elif u < -3.4: \n",
    "            ts = np.linspace(0.00001,100,500000)\n",
    "            for t in ts:\n",
    "                integral += (ts[1]-ts[0])*np.exp(-t*np.log(t)-u*t)*np.sin(np.pi*t)\n",
    "        elif u < -2.0: \n",
    "            ts = np.linspace(0.00001,50,250000)\n",
    "            for t in ts:\n",
    "                integral += (ts[1]-ts[0])*np.exp(-t*np.log(t)-u*t)*np.sin(np.pi*t)\n",
    "        elif u < -1.2: \n",
    "            ts = np.linspace(0.00001,20,100000)\n",
    "            for t in ts:\n",
    "                integral += (ts[1]-ts[0])*np.exp(-t*np.log(t)-u*t)*np.sin(np.pi*t)\n",
    "        elif u < -0.6: \n",
    "            ts = np.linspace(0.00001,20,50000)\n",
    "            for t in ts:\n",
    "                integral += (ts[1]-ts[0])*np.exp(-t*np.log(t)-u*t)*np.sin(np.pi*t)\n",
    "        elif u < 1: \n",
    "            ts = np.linspace(0.00001,10,25000)\n",
    "            for t in ts:\n",
    "                integral += (ts[1]-ts[0])*np.exp(-t*np.log(t)-u*t)*np.sin(np.pi*t)\n",
    "        elif u < 8: \n",
    "            ts = np.linspace(0.00001,5,10000)\n",
    "            for t in ts:\n",
    "                integral += (ts[1]-ts[0])*np.exp(-t*np.log(t)-u*t)*np.sin(np.pi*t)\n",
    "        elif u < 20: \n",
    "            ts = np.linspace(0.00001,2,5000)\n",
    "            for t in ts:\n",
    "                integral += (ts[1]-ts[0])*np.exp(-t*np.log(t)-u*t)*np.sin(np.pi*t)\n",
    "        elif u < 200: \n",
    "            ts = np.linspace(0.00001,1,2500)\n",
    "            for t in ts:\n",
    "                integral += (ts[1]-ts[0])*np.exp(-t*np.log(t)-u*t)*np.sin(np.pi*t)\n",
    "        elif u < 2000: \n",
    "            ts = np.linspace(0.00001,0.5,1000)\n",
    "            for t in ts:\n",
    "                integral += (ts[1]-ts[0])*np.exp(-t*np.log(t)-u*t)*np.sin(np.pi*t)\n",
    "        else: integral = 0\n",
    "        outs = integral*normalization/0.56188\n",
    "    else: \n",
    "        #print(\"converting!\")\n",
    "        ins = np.array([])\n",
    "        ins = np.append(ins,xs)\n",
    "        outs = []\n",
    "        for x in xs:\n",
    "            #print(x)\n",
    "            u=(x-location)*4/scale\n",
    "            integral = 0\n",
    "\n",
    "            if u < -3.8: integral = 0\n",
    "            elif u < -3.4: \n",
    "                ts = np.linspace(0.00001,100,500000)\n",
    "                for t in ts:\n",
    "                    integral += (ts[1]-ts[0])*np.exp(-t*np.log(t)-u*t)*np.sin(np.pi*t)\n",
    "            elif u < -2.0: \n",
    "                ts = np.linspace(0.00001,50,250000)\n",
    "                for t in ts:\n",
    "                    integral += (ts[1]-ts[0])*np.exp(-t*np.log(t)-u*t)*np.sin(np.pi*t)\n",
    "            elif u < -1.2: \n",
    "                ts = np.linspace(0.00001,20,100000)\n",
    "                for t in ts:\n",
    "                    integral += (ts[1]-ts[0])*np.exp(-t*np.log(t)-u*t)*np.sin(np.pi*t)\n",
    "            elif u < -0.6: \n",
    "                ts = np.linspace(0.00001,20,50000)\n",
    "                for t in ts:\n",
    "                    integral += (ts[1]-ts[0])*np.exp(-t*np.log(t)-u*t)*np.sin(np.pi*t)\n",
    "            elif u < 1: \n",
    "                ts = np.linspace(0.00001,10,25000)\n",
    "                for t in ts:\n",
    "                    integral += (ts[1]-ts[0])*np.exp(-t*np.log(t)-u*t)*np.sin(np.pi*t)\n",
    "            elif u < 8: \n",
    "                ts = np.linspace(0.00001,5,10000)\n",
    "                for t in ts:\n",
    "                    integral += (ts[1]-ts[0])*np.exp(-t*np.log(t)-u*t)*np.sin(np.pi*t)\n",
    "            elif u < 20: \n",
    "                ts = np.linspace(0.00001,2,5000)\n",
    "                for t in ts:\n",
    "                    integral += (ts[1]-ts[0])*np.exp(-t*np.log(t)-u*t)*np.sin(np.pi*t)\n",
    "            elif u < 200: \n",
    "                ts = np.linspace(0.00001,1,2500)\n",
    "                for t in ts:\n",
    "                    integral += (ts[1]-ts[0])*np.exp(-t*np.log(t)-u*t)*np.sin(np.pi*t)\n",
    "            elif u < 2000: \n",
    "                ts = np.linspace(0.00001,0.5,1000)\n",
    "                for t in ts:\n",
    "                    integral += (ts[1]-ts[0])*np.exp(-t*np.log(t)-u*t)*np.sin(np.pi*t)\n",
    "            else: integral = 0\n",
    "            outs.append(integral*normalization/0.56188)\n",
    "    return outs"
   ]
  },
  {
   "cell_type": "code",
   "execution_count": 3,
   "id": "4b9060c6-7ee0-4194-8f05-9499d0316aa8",
   "metadata": {},
   "outputs": [
    {
     "name": "stdout",
     "output_type": "stream",
     "text": [
      "x=-0.8980539610792215\r"
     ]
    },
    {
     "name": "stderr",
     "output_type": "stream",
     "text": [
      "\n",
      "KeyboardInterrupt\n",
      "\n"
     ]
    }
   ],
   "source": [
    "#do not run!\n",
    "with open(\"landaulookuptableBAD.txt\", 'w') as w:\n",
    "    for x in np.linspace(-3.8,500,50000):\n",
    "        print(f\"x={x}\",end=\"\\r\")\n",
    "        if x != 500:\n",
    "            w.write(f\"{x}\\t{LandauInt(x,0,1,1)}\\n\")\n",
    "        else:\n",
    "            w.write(f\"{x}\\t{LandauInt(x,0,1,1)}\")"
   ]
  },
  {
   "cell_type": "code",
   "execution_count": 4,
   "id": "feca6480-870d-4fac-99cb-ea7cf270bc3f",
   "metadata": {},
   "outputs": [],
   "source": [
    "def Landau(x, location,fwhm,renormalization):\n",
    "    #print(type(x))\n",
    "    u=(x-location)*4/fwhm\n",
    "    renormalization = 8/5*renormalization\n",
    "    return renormalization * np.exp(-u/2 - np.exp(-u)/2)\n",
    "\n",
    "def Landau2(x, location,fwhm,renormalization):\n",
    "    #print(type(x))\n",
    "    u=(x-location)/0.6/fwhm\n",
    "    renormalization = 4.96*renormalization\n",
    "    return np.piecewise(u,[u<=0,u>0],[lambda u:0,lambda u:renormalization * np.exp(-1/u)/(u*(1+u))])\n",
    "\n",
    "def LandauLinear(xs,location,fwhm,renormalization):\n",
    "    if \"array\" in str(type(xs)) or \"list\" in str(type(xs)):\n",
    "        linapprox=[]\n",
    "        for x in xs:\n",
    "            u=(x-location)/fwhm\n",
    "            if u < -3.8 or u > 500: linapp = 0\n",
    "            else:\n",
    "                for i in range(len(LandauXs)):\n",
    "                    if LandauXs[i] < u: index = i\n",
    "                    else: break\n",
    "                linapp = renormalization*(u-LandauXs[index])*(LandauYs[index+1]-LandauYs[index])/(LandauXs[index+1]-LandauXs[index])+renormalization*LandauYs[index]\n",
    "            linapprox.append(linapp)\n",
    "    else:\n",
    "        u=(xs-location)/fwhm\n",
    "        if u < -3.8 or u > 500: linapprox = 0\n",
    "        else:\n",
    "            for i in range(len(LandauXs)):\n",
    "                if LandauXs[i] < u: index = i\n",
    "                else: break\n",
    "\n",
    "            linapprox = renormalization*(u-LandauXs[index])*(LandauYs[index+1]-LandauYs[index])/(LandauXs[index+1]-LandauXs[index])+renormalization*LandauYs[index]\n",
    "    return linapprox"
   ]
  },
  {
   "cell_type": "code",
   "execution_count": 5,
   "id": "8d85bc38-ac24-49f6-9da5-7a588fce58ef",
   "metadata": {},
   "outputs": [
    {
     "data": {
      "text/plain": [
       "(-1.0, 1.0)"
      ]
     },
     "execution_count": 5,
     "metadata": {},
     "output_type": "execute_result"
    },
    {
     "data": {
      "image/png": "[encoded data removed]",
      "text/plain": [
       "<Figure size 432x288 with 1 Axes>"
      ]
     },
     "metadata": {
      "needs_background": "light"
     },
     "output_type": "display_data"
    }
   ],
   "source": [
    "import numpy as np\n",
    "import matplotlib.pyplot as plt\n",
    "def SetLandau():\n",
    "    global LandauXs\n",
    "    global LandauYs\n",
    "    lookuptable = np.loadtxt(\"landaulookuptable.txt\",float)\n",
    "    LandauXs = lookuptable[:,0]\n",
    "    LandauYs = lookuptable[:,-1]\n",
    "    return\n",
    "SetLandau()\n",
    "plt.plot(LandauXs,LandauYs,label=\"original landau\")\n",
    "plt.plot(np.linspace(-3,3,100),label=\"linear\")\n",
    "plt.xlim(-1,1)"
   ]
  },
  {
   "cell_type": "code",
   "execution_count": 23,
   "id": "afc9389d-24c9-497c-8add-5c436908ece1",
   "metadata": {},
   "outputs": [
    {
     "name": "stdout",
     "output_type": "stream",
     "text": [
      "calculated to 180.0\n",
      "calculated to 190.0\n",
      "calculated to 200.0\n",
      "calculated to 210.0\n",
      "calculated to 220.0\n",
      "calculated to 230.0\n",
      "calculated to 240.0\n",
      "calculated to 250.0\n",
      "calculated to 260.0\n",
      "calculated to 270.0\n",
      "calculated to 280.0\n"
     ]
    }
   ],
   "source": [
    "xlands = np.linspace(180,280,101)\n",
    "lands1 = []\n",
    "lands2 = []\n",
    "lands3 = []\n",
    "lands4 = []\n",
    "for x in xlands:\n",
    "    land1 = Landau(x,200,10,50)\n",
    "    lands1.append(land1)\n",
    "    land2 = Landau2(x,196,10,50)\n",
    "    lands2.append(land2)\n",
    "    land3 = LandauInt(x,200,10,50)\n",
    "    lands3.append(land3)\n",
    "    land4 = LandauLinear(x,200,10,50)\n",
    "    lands4.append(land4)\n",
    "    if x%10 == 0:  print(f\"calculated to {x}\")\n",
    "    #print(f\"calculated LandauInt({(x-200)/10}) as {land}\")\n"
   ]
  },
  {
   "cell_type": "code",
   "execution_count": 34,
   "id": "1e26c266-1f95-46f3-8a0a-865338a01814",
   "metadata": {},
   "outputs": [
    {
     "data": {
      "text/plain": [
       "(190.0, 210.0)"
      ]
     },
     "execution_count": 34,
     "metadata": {},
     "output_type": "execute_result"
    },
    {
     "data": {
      "image/png": "[encoded data removed]",
      "text/plain": [
       "<Figure size 432x288 with 1 Axes>"
      ]
     },
     "metadata": {
      "needs_background": "light"
     },
     "output_type": "display_data"
    }
   ],
   "source": [
    "plt.plot(xlands,lands1,color=\"red\")\n",
    "plt.plot(xlands,lands2,color=\"blue\")\n",
    "#plt.plot(xlands,lands3,color=\"purple\")\n",
    "plt.plot(xlands,lands4,color=\"purple\")\n",
    "landshalf=[]\n",
    "for one,two in zip(lands1,lands2):\n",
    "    landshalf.append((one + two) / 2.0)\n",
    "plt.plot(xlands,landshalf,color=\"black\")\n",
    "plt.xlim(190,210)\n",
    "#plt.ylim(0,2)"
   ]
  },
  {
   "cell_type": "code",
   "execution_count": 43,
   "id": "5520cb91-ced1-4d17-92ab-cd78fa665a95",
   "metadata": {},
   "outputs": [
    {
     "name": "stdout",
     "output_type": "stream",
     "text": [
      "[0.09533908699403666, 0.09562269153853743, 0.09590684998540336, 0.09619156252115378, 0.09647682932810933, 0.09676265058796783, 0.09704902647863588, 0.09733595717649111, 0.09762344285462732, 0.0979114836845861, 0.09820007983524892, 0.09848923147242326, 0.0987789387610429, 0.09906920186192646, 0.09936002093391542, 0.09965139613391052, 0.09994332761681213, 0.10023581553296845, 0.10052886003282155, 0.10082246126279147, 0.10111661936756601, 0.10141133448886243, 0.10170660676641109, 0.10200243633720374, 0.1022988233358546, 0.10259576789455083, 0.10289327014322641, 0.10319133020855836, 0.10348994821596856, 0.10378912428738739, 0.10408885854289623, 0.10438915109938089, 0.104690002072226, 0.10499141157358483, 0.10529337971380089, 0.10559590659971897, 0.10589899233686041, 0.10620263702726902, 0.10650684077128632, 0.10681160366603688, 0.10711692580698594, 0.10742280728647094, 0.10772924819433434, 0.10803624861813414, 0.1083438086433209, 0.10865192835194393, 0.1089606078240884, 0.10926984713759898, 0.1095796463669489, 0.10989000558486162, 0.11020092486154821, 0.11051240426433517, 0.11082444385806321, 0.11113704370509964, 0.11145020386545793, 0.11176392439661563, 0.11207820535355133, 0.112393046788066, 0.11270844875071831, 0.11302441128821158, 0.11334093444528692, 0.1136580182645886, 0.11397566278561978, 0.11429386804539832, 0.11461263407909437, 0.11493196091784742, 0.11525184859193652, 0.1155722971280023, 0.11589330655084175, 0.11621487688207416, 0.11653700814119013, 0.11685970034497625, 0.11718295350790683, 0.11750676764145168, 0.11783114275479462, 0.11815607885468332, 0.11848157594528201, 0.11880763402797302, 0.11913425310162815, 0.11946143316261748, 0.11978917420528644, 0.12011747622037701, 0.12044633919680582, 0.12077576312084093, 0.1211057479759286, 0.1214362937433661, 0.12176740040105277, 0.1220990679257256, 0.12243129628989591, 0.1227640854651727, 0.1230974354189662, 0.12343134611741051, 0.12376581752336213, 0.12410084959737568, 0.124436442297599, 0.12477259557924174, 0.12510930939474335, 0.12544658369485964, 0.12578441842671031, 0.12612281353574759]\n",
      "[0.09535587636335047, 0.09562748586232929, 0.09591447456701097, 0.09621118427509492, 0.09650789398317887, 0.09680460369126268, 0.09710131339934663, 0.09739802310743058, 0.09769473281551454, 0.0979914425235985, 0.09828815223168244, 0.0985848619397664, 0.09888157164785036, 0.0991782813559343, 0.09947499106401811, 0.09977170077210207, 0.10006841048018603, 0.10036512018826997, 0.10066182989635393, 0.10095853960443789, 0.10125524931252183, 0.10155195902060579, 0.10184866872868975, 0.10214537843677354, 0.1024420881448575, 0.10273879785294146, 0.1030355075610254, 0.10333221726910936, 0.10362892697719332, 0.10392563668527727, 0.10422234639336123, 0.10451905610144518, 0.10481576580952899, 0.10511247551761294, 0.1054091852256969, 0.10570589493378085, 0.1060026046418648, 0.10629931434994876, 0.10659602405803272, 0.10689273376611666, 0.10718944347420062, 0.10748615318228442, 0.10778286289036837, 0.10807957259845233, 0.10837628230653629, 0.10867299201462025, 0.10896970172270419, 0.10927325581120072, 0.10959533336037047, 0.10991741090954024, 0.11023948845870984, 0.1105615660078796, 0.11088364355704937, 0.11120572110621912, 0.1115277986553889, 0.11184987620455866, 0.11217195375372842, 0.11249403130289819, 0.11281610885206794, 0.11313818640123754, 0.11346026395040731, 0.11378234149957707, 0.11410441904874684, 0.1144264965979166, 0.11474857414708636, 0.11507065169625613, 0.11539272924542589, 0.11571480679459566, 0.11603688434376526, 0.11635896189293501, 0.11668103944210478, 0.11700311699127454, 0.11732519454044431, 0.11764727208961408, 0.11796934963878383, 0.1182914271879536, 0.11861350473712336, 0.11893558228629296, 0.11925765983546273, 0.11957973738463248, 0.11990181493380225, 0.12022389248297202, 0.12054597003214178, 0.12086804758131155, 0.1211901251304813, 0.12151220267965107, 0.12183428022882067, 0.12215635777799043, 0.1224784353271602, 0.12280051287632995, 0.12312259042549972, 0.12344466797466949, 0.12376674552383925, 0.12411236835790072, 0.12445984813172309, 0.12480732790554529, 0.12515480767936765, 0.12550228745319003, 0.1258497672270124, 0.1261972470008348]\n"
     ]
    }
   ],
   "source": [
    "val = np.linspace(-0.586,-0.564,100)\n",
    "\n",
    "print(LandauInt(val,0,1,1))\n",
    "print(LandauLinear(val,0,1,1))"
   ]
  },
  {
   "cell_type": "code",
   "execution_count": 46,
   "id": "31b5e2f1-5e6b-424e-b551-06e6abc7e5ab",
   "metadata": {},
   "outputs": [
    {
     "name": "stdout",
     "output_type": "stream",
     "text": [
      "[-0.586      -0.58577778 -0.58555556 -0.58533333 -0.58511111 -0.58488889\n",
      " -0.58466667 -0.58444444 -0.58422222 -0.584      -0.58377778 -0.58355556\n",
      " -0.58333333 -0.58311111 -0.58288889 -0.58266667 -0.58244444 -0.58222222\n",
      " -0.582      -0.58177778 -0.58155556 -0.58133333 -0.58111111 -0.58088889\n",
      " -0.58066667 -0.58044444 -0.58022222 -0.58       -0.57977778 -0.57955556\n",
      " -0.57933333 -0.57911111 -0.57888889 -0.57866667 -0.57844444 -0.57822222\n",
      " -0.578      -0.57777778 -0.57755556 -0.57733333 -0.57711111 -0.57688889\n",
      " -0.57666667 -0.57644444 -0.57622222 -0.576      -0.57577778 -0.57555556\n",
      " -0.57533333 -0.57511111 -0.57488889 -0.57466667 -0.57444444 -0.57422222\n",
      " -0.574      -0.57377778 -0.57355556 -0.57333333 -0.57311111 -0.57288889\n",
      " -0.57266667 -0.57244444 -0.57222222 -0.572      -0.57177778 -0.57155556\n",
      " -0.57133333 -0.57111111 -0.57088889 -0.57066667 -0.57044444 -0.57022222\n",
      " -0.57       -0.56977778 -0.56955556 -0.56933333 -0.56911111 -0.56888889\n",
      " -0.56866667 -0.56844444 -0.56822222 -0.568      -0.56777778 -0.56755556\n",
      " -0.56733333 -0.56711111 -0.56688889 -0.56666667 -0.56644444 -0.56622222\n",
      " -0.566      -0.56577778 -0.56555556 -0.56533333 -0.56511111 -0.56488889\n",
      " -0.56466667 -0.56444444 -0.56422222 -0.564     ]\n",
      "-0.564 val appended val appended\r"
     ]
    }
   ],
   "source": [
    "Differences = []\n",
    "print(val)\n",
    "for v in val:\n",
    "    Differences.append(LandauLinear(v,0,1,1)/LandauInt(v,0,1,1)-1)\n",
    "    print(f\"{v} val appended             \",end=\"\\r\")"
   ]
  },
  {
   "cell_type": "code",
   "execution_count": 47,
   "id": "953c5aa1-19bd-4319-a70e-6111381eb7c6",
   "metadata": {},
   "outputs": [
    {
     "data": {
      "image/png": "[encoded data removed]",
      "text/plain": [
       "<Figure size 432x288 with 1 Axes>"
      ]
     },
     "metadata": {
      "needs_background": "light"
     },
     "output_type": "display_data"
    }
   ],
   "source": [
    "nDiff = []\n",
    "for d in Differences:\n",
    "    #print(f\"Diff: {d:.3e} with log {np.log10(d):0.3f}\")\n",
    "    nDiff.append(np.log10(d))\n",
    "plt.hist(nDiff,20)\n",
    "plt.show()"
   ]
  },
  {
   "cell_type": "code",
   "execution_count": 50,
   "id": "586741c5-0bd4-4c15-b781-94f2fba4dc66",
   "metadata": {},
   "outputs": [
    {
     "name": "stderr",
     "output_type": "stream",
     "text": [
      "C:\\Users\\user\\AppData\\Local\\Temp/ipykernel_23068/1087677806.py:5: RuntimeWarning: invalid value encountered in double_scalars\n",
      "  Differences.append(abs(LandauLinear(v,0,1,1)/LandauInt(v,0,1,1)-1))\n",
      "C:\\Users\\user\\AppData\\Local\\Temp/ipykernel_23068/1087677806.py:5: RuntimeWarning: divide by zero encountered in double_scalars\n",
      "  Differences.append(abs(LandauLinear(v,0,1,1)/LandauInt(v,0,1,1)-1))\n"
     ]
    },
    {
     "name": "stdout",
     "output_type": "stream",
     "text": [
      "2.0 val appended             ed                 \r"
     ]
    },
    {
     "data": {
      "image/png": "[encoded data removed]",
      "text/plain": [
       "<Figure size 432x288 with 1 Axes>"
      ]
     },
     "metadata": {
      "needs_background": "light"
     },
     "output_type": "display_data"
    },
    {
     "name": "stdout",
     "output_type": "stream",
     "text": [
      "-4.477320139910927\n"
     ]
    }
   ],
   "source": [
    "Differences = []\n",
    "val=np.linspace(-1,2,1000)\n",
    "#print(val)\n",
    "for v in val:\n",
    "    Differences.append(abs(LandauLinear(v,0,1,1)/LandauInt(v,0,1,1)-1))\n",
    "    print(f\"{v} val appended             \",end=\"\\r\")\n",
    "nDiff = []\n",
    "for d in Differences:\n",
    "    #print(f\"Diff: {d:.3e} with log {np.log10(d):0.3f}\")\n",
    "    nDiff.append(np.log10(d))\n",
    "#print(Differences[:18])\n",
    "#print(nDiff[:])\n",
    "plt.hist(nDiff[17:],50)\n",
    "plt.show()\n",
    "print(np.mean(nDiff[17:]))"
   ]
  },
  {
   "cell_type": "code",
   "execution_count": 51,
   "id": "b39243c8-f06b-4862-8e6f-45b9e53a464b",
   "metadata": {},
   "outputs": [
    {
     "data": {
      "image/png": "[encoded data removed]",
      "text/plain": [
       "<Figure size 432x288 with 1 Axes>"
      ]
     },
     "metadata": {
      "needs_background": "light"
     },
     "output_type": "display_data"
    }
   ],
   "source": [
    "slopes=[]\n",
    "sslopes=[]\n",
    "for i in range(len(LandauYs)-1):\n",
    "    slopes.append(20*LandauYs[i+1]-20*LandauYs[i])\n",
    "slopes.append(0)\n",
    "for i in range(len(slopes)-1):\n",
    "    sslopes.append(20*slopes[i+1]-20*slopes[i])\n",
    "\n",
    "sslopes.append(0)\n",
    "plt.plot(LandauXs,LandauYs)\n",
    "plt.plot(LandauXs,slopes)\n",
    "plt.plot(LandauXs,sslopes)\n",
    "plt.xlim(-1,1)\n",
    "plt.show()"
   ]
  },
  {
   "cell_type": "code",
   "execution_count": 52,
   "id": "8d8a1840-61be-42ca-a719-f041653e706b",
   "metadata": {},
   "outputs": [
    {
     "name": "stdout",
     "output_type": "stream",
     "text": [
      "(-0.5756155123102462, 0.4607242825650726)\n",
      "(-0.2128722574451487, -0.40778912378769405)\n"
     ]
    }
   ],
   "source": [
    "\n",
    "\n",
    "def findindex(xvals,xval): \n",
    "    minima = 66e6\n",
    "    for i,elem in enumerate(xvals):\n",
    "        # Update minimum difference from xval and index of the minimum difference\n",
    "        if abs(xval-elem) < minima: \n",
    "            minima = abs(xval-elem) \n",
    "            index = i\n",
    "    return index\n",
    "\n",
    "def findmax(xvals,yvals,xmin,xmax): \n",
    "    xminindex = -666\n",
    "    xmaxindex = -666\n",
    "    # Find the indexes of the limits using findindex function\n",
    "    xminindex = findindex(xvals,xmin)\n",
    "    xmaxindex = findindex(xvals,xmax)\n",
    "    # Find the max y value and the x value which is at the same index\n",
    "    maxy = max(yvals[xminindex:xmaxindex])\n",
    "    maxx = xvals[np.where(yvals==maxy)[0][0]]\n",
    "    #maxx = 0\n",
    "    return maxx,maxy #return peak as x,y coordinate tuple\n",
    "\n",
    "def findmin(xvals,yvals,xmin,xmax): \n",
    "    xminindex = -666\n",
    "    xmaxindex = -666\n",
    "    # Find the indexes of the limits using findindex function\n",
    "    xminindex = findindex(xvals,xmin)\n",
    "    xmaxindex = findindex(xvals,xmax)\n",
    "    # Find the max y value and the x value which is at the same index\n",
    "    maxy = min(yvals[xminindex:xmaxindex])\n",
    "    maxx = xvals[np.where(yvals==maxy)[0][0]]\n",
    "    #maxx = 0\n",
    "    return maxx,maxy #return peak as x,y coordinate tuple\n",
    "print(findmax(LandauXs,sslopes,-1,-0.2))\n",
    "print(findmin(LandauXs,sslopes,-0.3,0))"
   ]
  },
  {
   "cell_type": "code",
   "execution_count": 53,
   "id": "2af987ee-f5de-4c4c-926e-fec431b7ffb3",
   "metadata": {},
   "outputs": [
    {
     "data": {
      "text/plain": [
       "(-0.41439628792575833, 0.010972361560632748)"
      ]
     },
     "execution_count": 53,
     "metadata": {},
     "output_type": "execute_result"
    }
   ],
   "source": [
    "def findzero(xvals,yvals,xmin,xmax): \n",
    "    xminindex = -666\n",
    "    xmaxindex = -666\n",
    "    yvals = np.array(yvals)\n",
    "    # Find the indexes of the limits using findindex function\n",
    "    xminindex = findindex(xvals,xmin)\n",
    "    xmaxindex = findindex(xvals,xmax)\n",
    "    # Find the max y value and the x value which is at the same index\n",
    "    maxy = min(abs(yvals[xminindex:xmaxindex]))\n",
    "    maxx = xvals[np.where(yvals==maxy)[0][0]]\n",
    "    #maxx = 0\n",
    "    return maxx,maxy #return peak as x,y coordinate tuple\n",
    "\n",
    "findzero(LandauXs,sslopes,-0.5,-0.3)"
   ]
  },
  {
   "cell_type": "code",
   "execution_count": 54,
   "id": "1a8ffc0f-b7c1-4f62-9c79-397c8417b66d",
   "metadata": {},
   "outputs": [
    {
     "name": "stdout",
     "output_type": "stream",
     "text": [
      "[-0.42447249 -0.41439629 -0.40432009 -0.39424388] [0.05103700418082724, 0.010972361560632748, -0.028428910322055856, -0.06683272364703896]\n"
     ]
    }
   ],
   "source": [
    "print(LandauXs[335:339],sslopes[335:339])"
   ]
  },
  {
   "cell_type": "code",
   "execution_count": 55,
   "id": "fbf465ae-7520-40f9-9871-01e9ed276c61",
   "metadata": {},
   "outputs": [
    {
     "name": "stdout",
     "output_type": "stream",
     "text": [
      "[-0.4748535  -0.4647773  -0.45470109 -0.44462489 -0.43454869 -0.42447249\n",
      " -0.41439629 -0.40432009 -0.39424388 -0.38416768 -0.37409148 -0.36401528\n",
      " -0.35393908 -0.34386288 -0.33378668 -0.32371047 -0.31363427 -0.30355807\n",
      " -0.29348187 -0.28340567] [0.24772613391215614, 0.21026813940688172, 0.1714371392324665, 0.1316715388299805, 0.09140046821986658, 0.05103700418082724, 0.010972361560632748, -0.028428910322055856, -0.06683272364703896, -0.1039382664465549, -0.1394798870647307, -0.17322811660630322, -0.2049899117299958, -0.23460821130868226, -0.26196089858814275, -0.2869592715693514, -0.30956624819317824, -0.32967330385908156, -0.34740006900786824, -0.36268897313743054]\n"
     ]
    }
   ],
   "source": [
    "print(LandauXs[330:350],sslopes[330:350])"
   ]
  },
  {
   "cell_type": "markdown",
   "id": "ae83a486-d4e7-4f4d-b2b5-7b5bd54f08f1",
   "metadata": {},
   "source": [
    "$Landau = \\text{Normalization}*exp\\left[-\\frac{\\left(x-x_{0}\\right)}{2*\\text{fwhm}}-\\frac{exp\\left(\\left(x-x_{0}\\right)/\\text{fwhm}\\right)}{2}\\right]$\n",
    "\n",
    "$Landau2 = \\text{Normalization}*exp\\left[-\\frac{\\text{fwhm}}{\\left(x-x_{0}\\right)}\\right]\\frac{\\text{fwhm}}{\\left(x-x_{0}\\right)\\left[1+\\left(x-x_{0}\\right)/\\text{fwhm}\\right]}$\n",
    "\n",
    "### Unitary:\n",
    "$Landau = exp\\left[-\\frac{x}{2}-\\frac{exp\\left(-x\\right)}{2}\\right]$\n",
    "\n",
    "$Landau2 = exp\\left[\\frac{-1}{x}\\right]\\frac{1}{x\\left(1+x\\right)}$"
   ]
  }
 ],
 "metadata": {
  "kernelspec": {
   "display_name": "Python 3 (ipykernel)",
   "language": "python",
   "name": "python3"
  },
  "language_info": {
   "codemirror_mode": {
    "name": "ipython",
    "version": 3
   },
   "file_extension": ".py",
   "mimetype": "text/x-python",
   "name": "python",
   "nbconvert_exporter": "python",
   "pygments_lexer": "ipython3",
   "version": "3.9.12"
  }
 },
 "nbformat": 4,
 "nbformat_minor": 5
}
