{
 "cells": [
  {
   "cell_type": "code",
   "execution_count": 11,
   "id": "15723055-1204-41e2-b577-5c2a0c90e515",
   "metadata": {
    "scrolled": true,
    "tags": []
   },
   "outputs": [],
   "source": [
    "import matplotlib.pyplot as plt\n",
    "from scipy.optimize import curve_fit\n",
    "import numpy as np\n",
    "\n",
    "def chi2(y,yfit):\n",
    "    res = 0\n",
    "    for i in range(len(yfit)):\n",
    "        res = res + (y[i]-yfit[i])**2/(0.9724)**2 #The denominator should be the unbias Sipm voltage in mV\n",
    "    return (res / len(yfit))\n",
    "\n",
    "def waveform(x, C, start, m, end, A, d):\n",
    "    condlist = [x < start, (x >= start) & (x < end), x >= end]\n",
    "    funclist = [lambda x: C, lambda x: m*x+(C - m*start), lambda x: (A * np.exp(d * x) + (m*end + (C - m*start) - A * np.exp(d*end)))]\n",
    "    return np.piecewise(x, condlist, funclist)"
   ]
  },
  {
   "cell_type": "code",
   "execution_count": 46,
   "id": "528722b2-f989-42d2-954b-2301d84f981f",
   "metadata": {
    "scrolled": true,
    "tags": []
   },
   "outputs": [],
   "source": [
    "inputfile = \"fermilabP2P_short.txt\"\n",
    "outputfile = 'fermilaboutput.txt'\n",
    "filenumber = 1\n",
    "channelnum = 3 #DRS4 board channel, ranges 1 to 4 -- should be expanded to do multiple channels at once.  \n",
    "\n",
    "p0=(0,150,-1,160,-10,-0.01) #p0:C,start,m,end,A,d -- adjust start and end to match approx time of pulse falling edge\n",
    "chi2cut = 2\n",
    "highVcut = 10 #cut just above noise level, in (mV) "
   ]
  },
  {
   "cell_type": "code",
   "execution_count": 70,
   "id": "cd0fe050-9b92-443c-823f-3d82250df292",
   "metadata": {
    "tags": []
   },
   "outputs": [
    {
     "name": "stdout",
     "output_type": "stream",
     "text": [
      "Done!\n",
      "Total events analyzed: 12\n",
      "Low Chi Squared events: 12\n"
     ]
    }
   ],
   "source": [
    "p2ps = np.array([])\n",
    "chisqs = np.array([])\n",
    "with open(outputfile, 'w') as w:\n",
    "    w.write(\"\")\n",
    "    for i in range(0, filenumber):                             #iterate through files\n",
    "        w.write(f\"File {i}, Channel {channelnum}\")\n",
    "        w.write('\\n');\n",
    "        with open(inputfile) as f:                            #modify to iterate through chosen filenames\n",
    "            current_file = (f.read().split('-- Event'))\n",
    "        \n",
    "        for j in range(1, len(current_file)):                  #iterate through events \n",
    "            time = np.array([])\n",
    "            voltage = np.array([])\n",
    "            lines = current_file[j].split('\\n')\n",
    "            #print(f\"Event Number {j}\")\n",
    "\n",
    "            for line in lines[6:1028]:                         #iterate through data points\n",
    "                values = line.split()\n",
    "                if float(values[channelnum+2]) > 10: continue               #cut the false peaks from the DRS4\n",
    "                time = np.append(time, float(values[2]))\n",
    "                voltage = np.append(voltage, float(values[channelnum+2]))\n",
    "\n",
    "            popt, pcov = curve_fit(waveform, time, voltage,p0=p0, maxfev = 10000)\n",
    "\n",
    "            #print(f\"C:{popt[0]}, \\n start:{popt[1]}, \\n m: {popt[2]},\\n end: {popt[3]},\\n A: {popt[4]},\\n d: {popt[5]}\")\n",
    "            \"\"\"#show the waveform fit line\n",
    "            s = []\n",
    "            ys = []\n",
    "            for i in range(500):\n",
    "                xs.append(i)\n",
    "                if i < popt[1]: ys.append(popt[0])\n",
    "                elif i < popt[3]: ys.append(i*popt[2]+popt[0]-popt[2]*popt[1])\n",
    "                else: ys.append(popt[4] * np.exp(popt[5] * i) + (popt[2]*popt[3] + (popt[0] - popt[2]*popt[1]) - popt[4] * np.exp(popt[5]*popt[3])))\n",
    "                \n",
    "            plot = plt.plot(time,voltage)\n",
    "            plt.plot(xs,ys)\n",
    "            plt.show()\"\"\"\n",
    "            \n",
    "            for i in range(len(time)): \n",
    "                if time[i] < popt[1]: startindex = i\n",
    "            chisq = chi2(voltage[0:startindex],waveform(time[0:startindex], *popt))\n",
    "            chisqs = np.append(chisqs,chisq)\n",
    "            #print(f\"chisq: {chisq}\")\n",
    "            \n",
    "            if chisq < chi2cut:\n",
    "                #w.write(f\"Event Number {j}:\\n\")\n",
    "                p2ps = np.append(p2ps,-popt[2]*(popt[3] - popt[1]))\n",
    "                w.write(f\"{-popt[2]*(popt[3] - popt[1]):.1f}\\n\")\n",
    "print(f'Done!\\nTotal events analyzed: {len(chisqs)}\\nLow Chi Squared events: {np.count_nonzero(chisqs < chi2cut)}')"
   ]
  },
  {
   "cell_type": "code",
   "execution_count": 71,
   "id": "71881e11-522c-464f-9b3e-4149bc8198f2",
   "metadata": {},
   "outputs": [
    {
     "data": {
      "image/png": "[encoded data removed]",
      "text/plain": [
       "<Figure size 432x288 with 1 Axes>"
      ]
     },
     "metadata": {
      "needs_background": "light"
     },
     "output_type": "display_data"
    }
   ],
   "source": [
    "plt.hist(chisqs,6)\n",
    "plt.show()"
   ]
  },
  {
   "cell_type": "code",
   "execution_count": 76,
   "id": "0785be49-4ea2-40c2-915d-4349d6ca8748",
   "metadata": {},
   "outputs": [
    {
     "data": {
      "image/png": "[encoded data removed]",
      "text/plain": [
       "<Figure size 432x288 with 1 Axes>"
      ]
     },
     "metadata": {
      "needs_background": "light"
     },
     "output_type": "display_data"
    }
   ],
   "source": [
    "count,V_pp,bars = plt.hist(p2ps,6)\n",
    "plt.show()"
   ]
  },
  {
   "cell_type": "code",
   "execution_count": null,
   "id": "7db81d54-20f9-4414-a929-8c0e8f7c0515",
   "metadata": {},
   "outputs": [],
   "source": []
  }
 ],
 "metadata": {
  "kernelspec": {
   "display_name": "Python 3 (ipykernel)",
   "language": "python",
   "name": "python3"
  },
  "language_info": {
   "codemirror_mode": {
    "name": "ipython",
    "version": 3
   },
   "file_extension": ".py",
   "mimetype": "text/x-python",
   "name": "python",
   "nbconvert_exporter": "python",
   "pygments_lexer": "ipython3",
   "version": "3.9.7"
  }
 },
 "nbformat": 4,
 "nbformat_minor": 5
}
