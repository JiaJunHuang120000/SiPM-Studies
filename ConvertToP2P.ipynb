{
 "cells": [
  {
   "cell_type": "code",
   "execution_count": 357,
   "id": "15723055-1204-41e2-b577-5c2a0c90e515",
   "metadata": {
    "scrolled": true,
    "tags": []
   },
   "outputs": [],
   "source": [
    "import matplotlib.pyplot as plt\n",
    "from scipy.optimize import curve_fit\n",
    "from scipy.stats import chisquare\n",
    "import numpy as np, pandas as pd\n",
    "\n",
    "def chi2(y,yfit):\n",
    "    res = 0\n",
    "    for i in range(len(yfit)):\n",
    "        res = res + (y[i]-yfit[i])**2/(0.9724)**2 #The denominator should be the unbias Sipm voltage in mV\n",
    "    return (res / len(yfit))\n",
    "\n",
    "def waveform(x, C, start, m, end, A, d):\n",
    "    condlist = [x < start, (x >= start) & (x < end), x >= end]\n",
    "    funclist = [lambda x: C, lambda x: m*x+(C - m*start), lambda x: (A * np.exp(d * x) + (m*end + (C - m*start) - A * np.exp(d*end)))]\n",
    "    return np.piecewise(x, condlist, funclist)\n",
    "\n",
    "def gaus(x, const, mu, sigma):\n",
    "    return const* np.exp(-0.5*((x - mu)/sigma)**2)"
   ]
  },
  {
   "cell_type": "code",
   "execution_count": 350,
   "id": "528722b2-f989-42d2-954b-2301d84f981f",
   "metadata": {
    "scrolled": true,
    "tags": []
   },
   "outputs": [],
   "source": [
    "inputfile = \"../TwofoldTrigger/5.txt\"\n",
    "outputfile = '../TwofoldTrigger/ORtrig300.txt'\n",
    "filenumber = 1\n",
    "channelnum = [1,2,3,4] #DRS4 board channel, ranges 1 to 4 -- should be expanded to do multiple channels at once.  \n",
    "eventview = False\n",
    "\n",
    "p0=[(0,100,1,110,300,-0.01),\n",
    "    (0,100,1,110,300,-0.01),\n",
    "    (0,100,1,110,40,-0.01),\n",
    "    (0,100,1,110,40,-0.01)] #p0:C,start,m,end,A,d -- adjust start and end to match approx time of pulse falling edge\n",
    "chi2cut = 2\n",
    "Vcut = 10 #cut just above noise level, in (mV) \n",
    "\n",
    "channelnames=[]\n",
    "for ch in channelnum:\n",
    "    channelnames.append(f'ch{ch}')"
   ]
  },
  {
   "cell_type": "code",
   "execution_count": 351,
   "id": "9921de7a",
   "metadata": {
    "scrolled": false,
    "tags": []
   },
   "outputs": [
    {
     "name": "stdout",
     "output_type": "stream",
     "text": [
      "Done!: 3037, Channel: 4, Start Index: 167\n",
      "Total events analyzed: 3037\n"
     ]
    }
   ],
   "source": [
    "din = {a+\"_\"+b:[] for a in channelnames for b in \"P2P time chisq\".split()}\n",
    "#p2ps = np.array([])\n",
    "#chisqs = np.array([])\n",
    "with open(outputfile, 'w') as w:\n",
    "    #w.write(\"\")\n",
    "    for i in range(0, filenumber):                             #iterate through files\n",
    "        w.write(f\"File {i}, Channel(s) {channelnum}\")\n",
    "        with open(inputfile) as f:                            #modify to iterate through chosen filenames\n",
    "            current_file = (f.read().split('-- Event'))\n",
    "        \n",
    "        for j in range(1, len(current_file)):                  #iterate through events  \n",
    "            \n",
    "            time = np.array([])\n",
    "            voltage = [np.array([])]*4\n",
    "            lines = current_file[j].split('\\n')\n",
    "            #w.write(f\"{j},\")\n",
    "            \n",
    "            if eventview: #show the waveform fit line\n",
    "                print(f\"Event Number {j}\")\n",
    "                fig,ax = plt.subplots(1,4,figsize=(10,3))\n",
    "                ax[0].set_title(\"Ch. 1\")\n",
    "                ax[1].set_title(\"Ch. 2\")\n",
    "                ax[2].set_title(\"Ch. 3\")\n",
    "                ax[3].set_title(\"Ch. 4\")\n",
    "            \n",
    "            for line in lines[6:1028]:                         #iterate through data points\n",
    "                values = line.split()\n",
    "                time = np.append(time, float(values[2]))\n",
    "                for channel in channelnum:\n",
    "                    #if float(values[channelnum+2]) < Vcut: continue            #cut the false peaks from the DRS4\n",
    "                    voltage[channel-1] = np.append(voltage[channel-1], float(values[channel+2]))\n",
    "            w.write('\\n')\n",
    "            for channel in channelnum:\n",
    "                #print(f'Channel Number {channel}')\n",
    "                popt, pcov = curve_fit(waveform, time, voltage[channel-1],p0=p0[channel-1],\n",
    "                                       maxfev = 100000)#,bounds=([-10,60,0,60,0,-1],[10,140,100,140,3000,0])\n",
    "                \n",
    "                for i in range(len(time)): \n",
    "                    if time[i] < popt[1]: startindex = i\n",
    "                    else: break\n",
    "                print(f\"Event: {j}, Channel: {channel}\",end=\"\\r\")\n",
    "                chisq = chi2(voltage[channel-1][0:startindex],waveform(time[0:startindex], *popt))\n",
    "\n",
    "                din[f'ch{channel}_P2P'].append(popt[2]*(popt[3] - popt[1]))\n",
    "                din[f'ch{channel}_time'].append(popt[1])\n",
    "                din[f'ch{channel}_chisq'].append(chisq)\n",
    "                \n",
    "                w.write(f\"{popt[2]*(popt[3] - popt[1]):.1f}\\t\")\n",
    "                w.write(f\"{popt[1]:.1f}\\t\")\n",
    "                w.write(f\"{chisq:.2f}\\t\")\n",
    "                \n",
    "                if eventview: #show the waveform fit line\n",
    "                    print(f\"Channel {channel} params: {popt}\")\n",
    "                    xs = []\n",
    "                    ys = []\n",
    "                    for i in range(500):\n",
    "                        xs.append(i)\n",
    "                        if i < popt[1]: ys.append(popt[0])\n",
    "                        elif i < popt[3]: ys.append(i*popt[2]+popt[0]-popt[2]*popt[1])\n",
    "                        else: ys.append(popt[4] * np.exp(popt[5] * i) + (popt[2]*popt[3] + (popt[0] - popt[2]*popt[1]) - popt[4] * np.exp(popt[5]*popt[3])))\n",
    "                    ax[channel-1].plot(time,voltage[channel-1])\n",
    "                    ax[channel-1].plot(xs,ys)\n",
    "            plt.show()\n",
    "                \n",
    "\n",
    "print(f'Done!\\nTotal events analyzed: {len(din[\"ch2_chisq\"])}')\n",
    "dfin = pd.DataFrame(din)"
   ]
  },
  {
   "cell_type": "code",
   "execution_count": 358,
   "id": "e71882b3",
   "metadata": {
    "scrolled": false
   },
   "outputs": [],
   "source": [
    "with open(outputfile) as f:  \n",
    "    nevents = (f.read().split('\\n'))\n",
    "    nchannelnums = nevents[0].split('[')[1].split(']')[0].split(', ')\n",
    "    nchannelnames=[]\n",
    "    for ch in nchannelnums:\n",
    "        nchannelnames.append(f'ch{ch}')\n",
    "    dout = {a+\"_\"+b:[] for a in nchannelnames for b in \"P2P time chisq\".split()}\n",
    "    \n",
    "    for event in nevents[1:]:\n",
    "        #print(f'Event: {event}')\n",
    "        nvalues = event.split()\n",
    "        if len(values) == 0: continue\n",
    "        for i in range(len(nchannelnames)):\n",
    "            #print(i)\n",
    "            dout[f'{nchannelnames[i]}_P2P'].append(float(nvalues[3*i]))\n",
    "            dout[f'{nchannelnames[i]}_time'].append(float(nvalues[3*i+1]))\n",
    "            dout[f'{nchannelnames[i]}_chisq'].append(float(nvalues[3*i+2]))\n",
    "dfout = pd.DataFrame(dout)\n"
   ]
  },
  {
   "cell_type": "code",
   "execution_count": 359,
   "id": "80373e08",
   "metadata": {
    "collapsed": true
   },
   "outputs": [
    {
     "data": {
      "image/png": "[encoded data removed]",
      "text/plain": [
       "<Figure size 432x288 with 1 Axes>"
      ]
     },
     "metadata": {
      "needs_background": "light"
     },
     "output_type": "display_data"
    }
   ],
   "source": [
    "plt.scatter(dfout.query(\"ch3_P2P>10 & ch4_P2P>10\").ch3_time,dfout.query(\"ch3_P2P>10 & ch4_P2P>10\").ch4_time)\n",
    "plt.plot(np.linspace(84,98,20),np.linspace(84,98,20),color=\"red\")\n",
    "plt.show()"
   ]
  },
  {
   "cell_type": "code",
   "execution_count": 369,
   "id": "0c17244a",
   "metadata": {},
   "outputs": [
    {
     "data": {
      "image/png": "[encoded data removed]",
      "text/plain": [
       "<Figure size 432x288 with 1 Axes>"
      ]
     },
     "metadata": {
      "needs_background": "light"
     },
     "output_type": "display_data"
    }
   ],
   "source": [
    "plt.scatter(dfin.query(\"ch3_P2P>10 & ch4_P2P>10\").ch3_time,dfin.query(\"ch3_P2P>10 & ch4_P2P>10\").ch4_time,label=f\"{len(dfin.query('ch3_P2P>10 & ch4_P2P>10').ch4_time)} Events\")\n",
    "plt.plot(np.linspace(65,100,2),np.linspace(65,100,2),color=\"red\",label=\"L=R\")\n",
    "plt.xlabel(\"SiPM_L Signal Time\")\n",
    "plt.ylabel(\"SiPM_R Signal Time\")\n",
    "plt.legend()\n",
    "plt.show()"
   ]
  },
  {
   "cell_type": "code",
   "execution_count": 371,
   "id": "e65c3969",
   "metadata": {},
   "outputs": [
    {
     "name": "stdout",
     "output_type": "stream",
     "text": [
      "Actual Average: 1.37, Actual st.dev.: 2.85\n",
      "Fit Average:    1.46, Fit st.dev.:    2.28\n"
     ]
    },
    {
     "data": {
      "image/png": "[encoded data removed]",
      "text/plain": [
       "<Figure size 432x288 with 1 Axes>"
      ]
     },
     "metadata": {
      "needs_background": "light"
     },
     "output_type": "display_data"
    }
   ],
   "source": [
    "count,binedges,bars=plt.hist(dfin.query(\"ch3_P2P>10 & ch4_P2P>10\").ch4_time-dfin.query(\"ch3_P2P>10 & ch4_P2P>10\").ch3_time,40, label=f\"{len(dfin.query('ch3_P2P>10 & ch4_P2P>10').ch4_time)} Events\")\n",
    "\n",
    "bincenters = binedges[1:]/2+binedges[:-1]/2\n",
    "avg=0\n",
    "stdev=0\n",
    "for i in range(len(bincenters)):\n",
    "    avg +=bincenters[i]*count[i]\n",
    "avg = avg/sum(count)\n",
    "for i in range(len(bincenters)):\n",
    "    stdev +=(bincenters[i]-avg)**2*count[i]\n",
    "stdev = np.sqrt(stdev/sum(count))\n",
    "\n",
    "\n",
    "coeff, covar = curve_fit(gaus, bincenters, count)\n",
    "print(f\"Actual Average: {avg:.2f}, Actual st.dev.: {stdev:.2f}\")\n",
    "print(f\"Fit Average:    {coeff[1]:.2f}, Fit st.dev.:    {coeff[2]:.2f}\")\n",
    "\n",
    "plt.plot(np.linspace(-10,10,50),gaus(np.linspace(-10,10,50),coeff[0],coeff[1],coeff[2]),label=\"Gaussian Fit\")\n",
    "plt.xlabel(\"R-L Time Difference (ns)\")\n",
    "plt.legend()\n",
    "plt.show()"
   ]
  },
  {
   "cell_type": "code",
   "execution_count": 331,
   "id": "7db81d54-20f9-4414-a929-8c0e8f7c0515",
   "metadata": {},
   "outputs": [
    {
     "name": "stdout",
     "output_type": "stream",
     "text": [
      "128.5674129524628\n",
      "105.54288053244646\n",
      "84.78829210627865\n",
      "66.30364767395936\n",
      "50.088947235488604\n",
      "36.144190790866375\n",
      "24.469378340092668\n",
      "15.064509883167494\n",
      "7.929585420090843\n",
      "3.064604950862719\n",
      "0.4695684754831221\n",
      "0.1444759939520523\n",
      "2.08932750626951\n",
      "6.304123012435494\n",
      "12.788862512450006\n",
      "21.54354600631305\n",
      "32.56817349402462\n",
      "45.86274497558471\n",
      "61.42726045099333\n",
      "79.26171992025048\n",
      "1.389463270128847 2.583943254278519\n"
     ]
    }
   ],
   "source": [
    "bincenters = binedges[1:]/2+binedges[:-1]/2\n"
   ]
  },
  {
   "cell_type": "code",
   "execution_count": 322,
   "id": "d959c7b7",
   "metadata": {},
   "outputs": [
    {
     "data": {
      "text/plain": [
       "20"
      ]
     },
     "execution_count": 322,
     "metadata": {},
     "output_type": "execute_result"
    }
   ],
   "source": [
    "len(count)"
   ]
  }
 ],
 "metadata": {
  "kernelspec": {
   "display_name": "Python 3 (ipykernel)",
   "language": "python",
   "name": "python3"
  },
  "language_info": {
   "codemirror_mode": {
    "name": "ipython",
    "version": 3
   },
   "file_extension": ".py",
   "mimetype": "text/x-python",
   "name": "python",
   "nbconvert_exporter": "python",
   "pygments_lexer": "ipython3",
   "version": "3.9.7"
  }
 },
 "nbformat": 4,
 "nbformat_minor": 5
}
