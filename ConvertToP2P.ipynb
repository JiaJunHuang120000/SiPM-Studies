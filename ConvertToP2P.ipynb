{
 "cells": [
  {
   "cell_type": "code",
   "execution_count": 88,
   "id": "15723055-1204-41e2-b577-5c2a0c90e515",
   "metadata": {
    "scrolled": true,
    "tags": []
   },
   "outputs": [],
   "source": [
    "import matplotlib.pyplot as plt\n",
    "from scipy.optimize import curve_fit\n",
    "from scipy.stats import chisquare\n",
    "import numpy as np, pandas as pd\n",
    "\n",
    "def chi2(y,yfit):\n",
    "    res = 0\n",
    "    for i in range(len(yfit)):\n",
    "        res = res + (y[i]-yfit[i])**2/(0.9724)**2 #The denominator should be the unbias Sipm voltage in mV\n",
    "    return (res / len(yfit))\n",
    "\n",
    "def waveform(x, C, start, m, end, A, d):\n",
    "    condlist = [x < start, (x >= start) & (x < end), x >= end]\n",
    "    funclist = [lambda x: C, lambda x: m*x+(C - m*start), lambda x: (A * np.exp(d * x) + (m*end + (C - m*start) - A * np.exp(d*end)))]\n",
    "    return np.piecewise(x, condlist, funclist)"
   ]
  },
  {
   "cell_type": "code",
   "execution_count": 231,
   "id": "528722b2-f989-42d2-954b-2301d84f981f",
   "metadata": {
    "scrolled": true,
    "tags": []
   },
   "outputs": [],
   "source": [
    "inputfile = \"../CosmicCheck/1.txt\"\n",
    "outputfile = '../CosmicCheck/P2Ps.txt'\n",
    "filenumber = 1\n",
    "channelnum = [2,3,4] #DRS4 board channel, ranges 1 to 4 -- should be expanded to do multiple channels at once.  \n",
    "eventview = False\n",
    "\n",
    "p0=[(),\n",
    "    (0,100,1,110,300,-0.01),\n",
    "    (0,100,1,110,40,-0.01),\n",
    "    (0,100,1,110,40,-0.01)] #p0:C,start,m,end,A,d -- adjust start and end to match approx time of pulse falling edge\n",
    "chi2cut = 2\n",
    "Vcut = 10 #cut just above noise level, in (mV) \n",
    "\n",
    "channelnames=[]\n",
    "for ch in channelnum:\n",
    "    channelnames.append(f'ch{ch}')"
   ]
  },
  {
   "cell_type": "code",
   "execution_count": 287,
   "id": "6e1fe5c2",
   "metadata": {
    "scrolled": true,
    "tags": []
   },
   "outputs": [
    {
     "name": "stdout",
     "output_type": "stream",
     "text": [
      "Event: 20\r"
     ]
    },
    {
     "name": "stderr",
     "output_type": "stream",
     "text": [
      "/home/arratialab2/miniconda3/lib/python3.9/site-packages/scipy/optimize/_minpack_py.py:833: OptimizeWarning: Covariance of the parameters could not be estimated\n",
      "  warnings.warn('Covariance of the parameters could not be estimated',\n"
     ]
    },
    {
     "name": "stdout",
     "output_type": "stream",
     "text": [
      "Done!: 29\n",
      "Total events analyzed: 29\n"
     ]
    }
   ],
   "source": [
    "din = {a+\"_\"+b:[] for a in channelnames for b in \"P2P time chisq\".split()}\n",
    "#p2ps = np.array([])\n",
    "#chisqs = np.array([])\n",
    "with open(outputfile, 'w') as w:\n",
    "    #w.write(\"\")\n",
    "    for i in range(0, filenumber):                             #iterate through files\n",
    "        w.write(f\"File {i}, Channel(s) {channelnum}\")\n",
    "        with open(inputfile) as f:                            #modify to iterate through chosen filenames\n",
    "            current_file = (f.read().split('-- Event'))\n",
    "        \n",
    "        for j in range(1, len(current_file)):                  #iterate through events \n",
    "            print(f\"Event: {j}\",end=\"\\r\")\n",
    "            time = np.array([])\n",
    "            voltage = [np.array([])]*4\n",
    "            lines = current_file[j].split('\\n')\n",
    "            #w.write(f\"{j},\")\n",
    "            \n",
    "            if eventview: #show the waveform fit line\n",
    "                print(f\"Event Number {j}\")\n",
    "                fig,ax = plt.subplots(1,4,figsize=(10,3))\n",
    "                ax[0].set_title(\"Ch. 1\")\n",
    "                ax[1].set_title(\"Ch. 2\")\n",
    "                ax[2].set_title(\"Ch. 3\")\n",
    "                ax[3].set_title(\"Ch. 4\")\n",
    "            \n",
    "            for line in lines[4:1028]:                         #iterate through data points\n",
    "                values = line.split()\n",
    "                time = np.append(time, float(values[2]))\n",
    "                for channel in channelnum:\n",
    "                    #if float(values[channelnum+2]) < Vcut: continue            #cut the false peaks from the DRS4\n",
    "                    voltage[channel-1] = np.append(voltage[channel-1], float(values[channel+2]))\n",
    "            w.write('\\n')\n",
    "            for channel in channelnum:\n",
    "                #print(f'Channel Number {channel}')\n",
    "                popt, pcov = curve_fit(waveform, time, voltage[channel-1],p0=p0[channel-1],\n",
    "                                       maxfev = 10000)#,bounds=([-10,60,0,60,0,-1],[10,140,100,140,3000,0])\n",
    "\n",
    "                for i in range(len(time)): \n",
    "                    if time[i] < popt[1]: startindex = i\n",
    "                    else: break\n",
    "                chisq = chi2(voltage[channel-1][0:startindex],waveform(time[0:startindex], *popt))\n",
    "\n",
    "                din[f'ch{channel}_P2P'].append(popt[2]*(popt[3] - popt[1]))\n",
    "                din[f'ch{channel}_time'].append(popt[1])\n",
    "                din[f'ch{channel}_chisq'].append(chisq)\n",
    "                \n",
    "                w.write(f\"{popt[2]*(popt[3] - popt[1]):.1f}\\t\")\n",
    "                w.write(f\"{popt[1]:.1f}\\t\")\n",
    "                w.write(f\"{chisq:.2f}\\t\")\n",
    "                \n",
    "                if eventview: #show the waveform fit line\n",
    "                    print(f\"Channel {channel} params: {popt}\")\n",
    "                    xs = []\n",
    "                    ys = []\n",
    "                    for i in range(500):\n",
    "                        xs.append(i)\n",
    "                        if i < popt[1]: ys.append(popt[0])\n",
    "                        elif i < popt[3]: ys.append(i*popt[2]+popt[0]-popt[2]*popt[1])\n",
    "                        else: ys.append(popt[4] * np.exp(popt[5] * i) + (popt[2]*popt[3] + (popt[0] - popt[2]*popt[1]) - popt[4] * np.exp(popt[5]*popt[3])))\n",
    "                    ax[channel-1].plot(time,voltage[channel-1])\n",
    "                    ax[channel-1].plot(xs,ys)\n",
    "            plt.show()\n",
    "                \n",
    "\n",
    "print(f'Done!\\nTotal events analyzed: {len(din[\"ch2_chisq\"])}')\n",
    "dfin = pd.DataFrame(din)"
   ]
  },
  {
   "cell_type": "code",
   "execution_count": 289,
   "id": "74e2995a",
   "metadata": {
    "scrolled": false
   },
   "outputs": [],
   "source": [
    "with open(outputfile) as f:  \n",
    "    nevents = (f.read().split('\\n'))\n",
    "    nchannelnums = nevents[0].split('[')[1].split(']')[0].split(', ')\n",
    "    nchannelnames=[]\n",
    "    for ch in nchannelnums:\n",
    "        nchannelnames.append(f'ch{ch}')\n",
    "    dout = {a+\"_\"+b:[] for a in nchannelnames for b in \"P2P time chisq\".split()}\n",
    "    \n",
    "    for event in nevents[1:]:\n",
    "        #print(f'Event: {event}')\n",
    "        nvalues = event.split()\n",
    "        if len(values) == 0: continue\n",
    "        for i in range(len(nchannelnames)):\n",
    "            #print(i)\n",
    "            dout[f'{nchannelnames[i]}_P2P'].append(float(nvalues[3*i]))\n",
    "            dout[f'{nchannelnames[i]}_time'].append(float(nvalues[3*i+1]))\n",
    "            dout[f'{nchannelnames[i]}_chisq'].append(float(nvalues[3*i+2]))\n",
    "dfout = pd.DataFrame(dout)\n"
   ]
  },
  {
   "cell_type": "code",
   "execution_count": 290,
   "id": "d9f4d3a5",
   "metadata": {},
   "outputs": [
    {
     "data": {
      "image/png": "[encoded data removed]",
      "text/plain": [
       "<Figure size 432x288 with 1 Axes>"
      ]
     },
     "metadata": {
      "needs_background": "light"
     },
     "output_type": "display_data"
    }
   ],
   "source": [
    "plt.scatter(dfout.query(\"ch3_P2P>10 & ch4_P2P>10\").ch3_time,dfout.query(\"ch3_P2P>10 & ch4_P2P>10\").ch4_time)\n",
    "plt.plot(np.linspace(84,98,20),np.linspace(84,98,20),color=\"red\")\n",
    "plt.show()"
   ]
  },
  {
   "cell_type": "code",
   "execution_count": 291,
   "id": "870e6f34",
   "metadata": {},
   "outputs": [
    {
     "data": {
      "image/png": "[encoded data removed]",
      "text/plain": [
       "<Figure size 432x288 with 1 Axes>"
      ]
     },
     "metadata": {
      "needs_background": "light"
     },
     "output_type": "display_data"
    }
   ],
   "source": [
    "plt.scatter(dfin.query(\"ch3_P2P>10 & ch4_P2P>10\").ch3_time,dfin.query(\"ch3_P2P>10 & ch4_P2P>10\").ch4_time)\n",
    "plt.plot(np.linspace(84,98,20),np.linspace(84,98,20),color=\"red\")\n",
    "plt.show()"
   ]
  },
  {
   "cell_type": "code",
   "execution_count": 170,
   "id": "8d760457",
   "metadata": {},
   "outputs": [
    {
     "data": {
      "text/plain": [
       "(array([1., 0., 0., 2., 1., 2., 1., 1., 2., 2.]),\n",
       " array([-2.40473181, -1.85151787, -1.29830393, -0.74508999, -0.19187605,\n",
       "         0.36133789,  0.91455183,  1.46776577,  2.02097971,  2.57419365,\n",
       "         3.12740759]),\n",
       " <BarContainer object of 10 artists>)"
      ]
     },
     "execution_count": 170,
     "metadata": {},
     "output_type": "execute_result"
    },
    {
     "data": {
      "image/png": "[encoded data removed]",
      "text/plain": [
       "<Figure size 432x288 with 1 Axes>"
      ]
     },
     "metadata": {
      "needs_background": "light"
     },
     "output_type": "display_data"
    }
   ],
   "source": [
    "plt.hist(dfin.query(\"ch3_P2P>10 & ch4_P2P>10\").ch4_time-dfin.query(\"ch3_P2P>10 & ch4_P2P>10\").ch3_time)"
   ]
  },
  {
   "cell_type": "code",
   "execution_count": null,
   "id": "7db81d54-20f9-4414-a929-8c0e8f7c0515",
   "metadata": {},
   "outputs": [],
   "source": []
  }
 ],
 "metadata": {
  "kernelspec": {
   "display_name": "Python 3 (ipykernel)",
   "language": "python",
   "name": "python3"
  },
  "language_info": {
   "codemirror_mode": {
    "name": "ipython",
    "version": 3
   },
   "file_extension": ".py",
   "mimetype": "text/x-python",
   "name": "python",
   "nbconvert_exporter": "python",
   "pygments_lexer": "ipython3",
   "version": "3.9.7"
  }
 },
 "nbformat": 4,
 "nbformat_minor": 5
}
