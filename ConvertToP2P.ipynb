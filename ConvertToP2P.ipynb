{
 "cells": [
  {
   "cell_type": "markdown",
   "id": "4cfb0c2a",
   "metadata": {
    "tags": []
   },
   "source": [
    "### Initialization Cell"
   ]
  },
  {
   "cell_type": "code",
   "execution_count": 1,
   "id": "15723055-1204-41e2-b577-5c2a0c90e515",
   "metadata": {
    "scrolled": true,
    "tags": []
   },
   "outputs": [],
   "source": [
    "import matplotlib.pyplot as plt\n",
    "import awkward as ak\n",
    "from scipy.optimize import curve_fit\n",
    "from scipy.stats import chisquare\n",
    "import numpy as np, pandas as pd\n",
    "import time as ttime\n",
    "\n",
    "import UsefulFunctions as uf"
   ]
  },
  {
   "cell_type": "markdown",
   "id": "65193857",
   "metadata": {
    "tags": []
   },
   "source": [
    "### User Defined Inputs"
   ]
  },
  {
   "cell_type": "code",
   "execution_count": 2,
   "id": "528722b2-f989-42d2-954b-2301d84f981f",
   "metadata": {
    "scrolled": true,
    "tags": []
   },
   "outputs": [],
   "source": [
    "inputfiles = [\"../300002_short.txt\"]  #list input files\n",
    "outputfile = '../howtouse.txt'          #set output file location\n",
    "channelnum = [1,2,3,4]             #list DRS4 board channels to record, ranges 1 to 4\n",
    "verbose = False\n",
    "\n",
    "rmscut = 1.5\n",
    "residualcut = 1000\n",
    "\n",
    "#choose which stats to analyze for each waveform\n",
    "do_chi2 = 1\n",
    "do_amplitude_raw = 0\n",
    "do_amplitude_base = 1\n",
    "do_amplitude_fit = 0\n",
    "do_time_raw = 0\n",
    "do_time_base = 1\n",
    "do_time_fit = 0\n",
    "do_time_CDF = 0\n",
    "do_time_smooth = 0\n",
    "\n",
    "#p0:Ci,start,m,end,d,A -- adjust start and end to match approx time of pulse rising edge\n",
    "p0=[(0,80,1,110,-100,600),       #ch1 initial parameters\n",
    "    (0,80,1,110,-100,600),       #ch2 initial parameters\n",
    "    (0,80,1,110,-100,600),        #ch3 initial parameters\n",
    "    (0,80,1,110,-100,600)]        #ch4 initial parameters\n"
   ]
  },
  {
   "cell_type": "markdown",
   "id": "65dcfb66-53f6-4002-b8e3-428317733854",
   "metadata": {
    "tags": []
   },
   "source": [
    "### Convert waveform to stats"
   ]
  },
  {
   "cell_type": "code",
   "execution_count": 3,
   "id": "c3d87046",
   "metadata": {
    "tags": []
   },
   "outputs": [
    {
     "name": "stdout",
     "output_type": "stream",
     "text": [
      "Event: 17, Channel: 2\r"
     ]
    },
    {
     "name": "stderr",
     "output_type": "stream",
     "text": [
      "/home/peckalec/SiPM-Studies/UsefulFunctions.py:11: RuntimeWarning: overflow encountered in exp\n",
      "  funclist = [lambda x: Ci, lambda x: m*x+(Ci - m*start), lambda x: (m*(end-start) + Ci)*np.exp((x-end)/d) + Cf]\n"
     ]
    },
    {
     "name": "stdout",
     "output_type": "stream",
     "text": [
      "Event: 22, Channel: 2\r"
     ]
    },
    {
     "name": "stderr",
     "output_type": "stream",
     "text": [
      "/home/peckalec/anaconda3/lib/python3.9/site-packages/scipy/optimize/minpack.py:833: OptimizeWarning: Covariance of the parameters could not be estimated\n",
      "  warnings.warn('Covariance of the parameters could not be estimated',\n"
     ]
    },
    {
     "name": "stdout",
     "output_type": "stream",
     "text": [
      "Event: 77, Channel: 4\r"
     ]
    },
    {
     "name": "stderr",
     "output_type": "stream",
     "text": [
      "/home/peckalec/SiPM-Studies/UsefulFunctions.py:11: RuntimeWarning: overflow encountered in multiply\n",
      "  funclist = [lambda x: Ci, lambda x: m*x+(Ci - m*start), lambda x: (m*(end-start) + Ci)*np.exp((x-end)/d) + Cf]\n"
     ]
    },
    {
     "name": "stdout",
     "output_type": "stream",
     "text": [
      "Event: 105, Channel: 4\n",
      "Time: 5023.4 ms\n"
     ]
    }
   ],
   "source": [
    "#build the collumns of the dataframe\n",
    "toc = ttime.perf_counter_ns()\n",
    "\n",
    "channelnames=[]\n",
    "for ch in channelnum:\n",
    "    channelnames.append(f'ch{ch}')\n",
    "\n",
    "stats=[]\n",
    "if do_chi2: stats.append(\"chisq\")\n",
    "if do_amplitude_raw: stats.append(\"P2P_raw\")\n",
    "if do_amplitude_base: stats.append(\"P2P_base\")\n",
    "if do_amplitude_fit: stats.append(\"P2P_fit\")\n",
    "if do_time_raw: stats.append(\"time_raw\")\n",
    "if do_time_base: stats.append(\"time_base\")\n",
    "if do_time_fit: stats.append(\"time_fit\")\n",
    "if do_time_CDF: stats.append(\"time_CDF\")\n",
    "if do_time_smooth: stats.append(\"time_smooth\")\n",
    "\n",
    "filenumber = len(inputfiles)\n",
    "\n",
    "#Add each stat for each channel to the dataframe\n",
    "din = {a+\"_\"+b:[] for a in channelnames for b in stats}\n",
    "\n",
    "with open(outputfile, 'w') as w:\n",
    "    for i in range(0, filenumber):                             #iterate through files\n",
    "        w.write(f\"File {i}, Channel(s) {channelnum}, stats {stats}\")\n",
    "        with open(inputfiles[i]) as f:\n",
    "            current_file = (f.read().split('-- Event'))\n",
    "        \n",
    "        for j in range(1, len(current_file)):                  #iterate through events len(current_file)\n",
    "            #grab the data from each channel\n",
    "            time = np.array([])\n",
    "            voltage = [np.array([])]*4\n",
    "            lines = current_file[j].split('\\n')\n",
    "            if verbose and (j < 10): #show the waveform fit line\n",
    "                print(f\"Event Number {j}\")\n",
    "                fig,ax = plt.subplots(1,4,figsize=(32,4))\n",
    "                ax[0].set_title(\"Ch. 1\")\n",
    "                ax[1].set_title(\"Ch. 2\")\n",
    "                ax[2].set_title(\"Ch. 3\")\n",
    "                ax[3].set_title(\"Ch. 4\")\n",
    "            for line in lines[6:1028]:                         #iterate through data points\n",
    "                values = line.split()\n",
    "                time = np.append(time, float(values[2]))\n",
    "\n",
    "                for channel in channelnum:\n",
    "                    voltage[channel-1] = np.append(voltage[channel-1], float(values[channel+2]))\n",
    "            w.write('\\n')\n",
    "            \n",
    "            #calculate stats for each channel\n",
    "            for channel in channelnum:\n",
    "                if not verbose: print(f\"Event: {j}, Channel: {channel}\",end=\"\\r\") #,end=\"\\r\"\n",
    "                #only attempt a fit if it looks like there's not nothing\n",
    "                totalrms = sum((voltage[channel-1]-np.mean(voltage[channel-1]))**2)/len(voltage[channel-1])\n",
    "                if totalrms < rmscut:\n",
    "                    popt = (np.mean(voltage[channel-1]),0,0,0,1,0)\n",
    "                    \n",
    "                    if do_chi2:\n",
    "                        chisq = 0\n",
    "                        din[f'ch{channel}_chisq'].append(chisq)\n",
    "                        w.write(f\"{chisq:.2f}\\t\")\n",
    "\n",
    "                    #calculate amplitude\n",
    "                    if do_amplitude_raw: \n",
    "                        amplitude = 0\n",
    "                        din[f'ch{channel}_P2P_raw'].append(amplitude)\n",
    "                        w.write(f\"{amplitude:.1f}\\t\")\n",
    "\n",
    "                    if do_amplitude_base: \n",
    "                        amplitude = 0\n",
    "                        din[f'ch{channel}_P2P_base'].append(amplitude)\n",
    "                        w.write(f\"{amplitude:.1f}\\t\")\n",
    "\n",
    "                    if do_amplitude_fit: \n",
    "                        amplitude = 0\n",
    "                        din[f'ch{channel}_P2P_fit'].append(amplitude)\n",
    "                        w.write(f\"{amplitude:.1f}\\t\")\n",
    "\n",
    "                    #calculate time\n",
    "                    if do_time_raw: \n",
    "                        pulse_time = 0\n",
    "                        din[f'ch{channel}_time_raw'].append(pulse_time)\n",
    "                        w.write(f\"{pulse_time:.1f}\\t\")\n",
    "                        \n",
    "                    if do_time_base:\n",
    "                        pulse_time = 0\n",
    "                        din[f'ch{channel}_time_base'].append(pulse_time)\n",
    "                        w.write(f\"{pulse_time:.1f}\\t\")\n",
    "\n",
    "                    if do_time_fit: \n",
    "                        pulse_time = 0\n",
    "                        din[f'ch{channel}_time_fit'].append(pulse_time)\n",
    "                        w.write(f\"{pulse_time:.1f}\\t\")\n",
    "                        \n",
    "                    if do_time_smooth:\n",
    "                        pulse_time = 0\n",
    "                        din[f'ch{channel}_time_smooth'].append(pulse_time)\n",
    "                        w.write(f\"{pulse_time:.1f}\\t\")\n",
    "\n",
    "                else:\n",
    "                    popt, pcov = curve_fit(uf.waveform, time, voltage[channel-1],p0=p0[channel-1],\n",
    "                                           maxfev = 100000)#,bounds=([-10,60,0,60,0,-1],[10,140,100,140,3000,0])\n",
    "                    \n",
    "                    fit_voltage = uf.waveform(time,*popt)\n",
    "                    #remove \"blips\"\n",
    "                    residual = np.abs(voltage[channel-1] - fit_voltage)\n",
    "                    mask = residual < residualcut\n",
    "                    for i, ele in enumerate(mask):\n",
    "                        if ele == 0:# and np.abs(time[i] - get_time_fit(popt)) > 20:\n",
    "                            voltage[channel-1][i] = uf.waveform(time[i],*popt)\n",
    "                    residual = np.abs(voltage[channel-1] - fit_voltage)\n",
    "                    \n",
    "                    #calculate chi^2\n",
    "                    if do_chi2:\n",
    "                        chisq = uf.get_chi2(popt,time,voltage[channel-1])\n",
    "                        din[f'ch{channel}_chisq'].append(chisq)\n",
    "                        w.write(f\"{chisq:.2f}\\t\")\n",
    "\n",
    "                    #calculate amplitude\n",
    "                    if do_amplitude_raw: \n",
    "                        amplitude = uf.get_amplitude_raw(voltage[channel-1])\n",
    "                        din[f'ch{channel}_P2P_raw'].append(amplitude)\n",
    "                        w.write(f\"{amplitude:.1f}\\t\")\n",
    "\n",
    "                    if do_amplitude_base: \n",
    "                        amplitude = uf.get_amplitude_base(popt,voltage[channel-1])\n",
    "                        din[f'ch{channel}_P2P_base'].append(amplitude)\n",
    "                        w.write(f\"{amplitude:.1f}\\t\")\n",
    "\n",
    "                    if do_amplitude_fit: \n",
    "                        amplitude = uf.get_amplitude_fit(popt)\n",
    "                        din[f'ch{channel}_P2P_fit'].append(amplitude)\n",
    "                        w.write(f\"{amplitude:.1f}\\t\")\n",
    "\n",
    "                    #calculate time\n",
    "                    if do_time_raw: \n",
    "                        pulse_time = uf.get_time_raw(time,voltage[channel-1])\n",
    "                        din[f'ch{channel}_time_raw'].append(pulse_time)\n",
    "                        w.write(f\"{pulse_time:.1f}\\t\")\n",
    "\n",
    "                    if do_time_base:\n",
    "                        pulse_time = uf.get_time_base(popt, time, voltage[channel-1])\n",
    "                        din[f'ch{channel}_time_base'].append(pulse_time)\n",
    "                        w.write(f\"{pulse_time:.1f}\\t\")\n",
    "\n",
    "                    if do_time_fit: \n",
    "                        pulse_time = uf.get_time_fit(popt)\n",
    "                        din[f'ch{channel}_time_fit'].append(pulse_time)\n",
    "                        w.write(f\"{pulse_time:.1f}\\t\")\n",
    "                        \n",
    "                    if do_time_smooth:\n",
    "                        pulse_time = uf.get_time_smooth(popt, time, voltage[channel-1], 3)\n",
    "                        din[f'ch{channel}_time_smooth'].append(pulse_time)\n",
    "                        w.write(f\"{pulse_time:.1f}\\t\")\n",
    "                   \n",
    "                if verbose and (j < 10): #show the waveform fit line\n",
    "                    print(f\"Channel {channel} RMS: {totalrms:.2f}; chi^2: {chisq:.2f}; fit params: {popt[0]:.2f}, {popt[1]:.1f}, {popt[2]:.2f}, {popt[3]:.1f}, {popt[4]:.2f}, {popt[5]:.3f}\")\n",
    "                    ts = np.linspace(0,500,501)\n",
    "                    if totalrms > rmscut: \n",
    "                        fits = uf.waveform(ts,*popt)\n",
    "                    else:\n",
    "                        fits = [popt[0]]*501\n",
    "\n",
    "                    ax[channel-1].plot(time,voltage[channel-1],label=\"raw\")\n",
    "                    #ax[channel-1].plot(time,uf.voltage_smooth(voltage[channel-1],5),label=\"smooth_5\", color='orange')\n",
    "                    ax[channel-1].plot(ts,fits,label=\"fit\")\n",
    "                    #ax[channel-1].plot(time,residual,label=\"residual\")\n",
    "                    #ax[channel-1].set_xlim(50,100)\n",
    "                    ax[channel-1].set_ylim(-10,50)\n",
    "                    #draw the P2P and time \n",
    "                    if do_time_raw: ax[channel-1].vlines(uf.get_time_raw(time,voltage[channel-1]),ymin=-10,ymax=20, color='r',label=\"t_raw\")\n",
    "                    if do_time_base: ax[channel-1].vlines(uf.get_time_base(popt,time,voltage[channel-1]),ymin=5,ymax=35, color='b',label=\"t_base\")\n",
    "                    if do_time_fit: ax[channel-1].vlines(uf.get_time_fit(popt),ymin=20,ymax=50, color='g',label=\"t_fit\")\n",
    "                    if do_amplitude_raw: ax[channel-1].hlines(uf.get_amplitude_raw(voltage[channel-1]),xmin=0,xmax=200, color='r',label=\"A_raw\")\n",
    "                    if do_amplitude_fit: ax[channel-1].hlines(uf.get_amplitude_fit(popt),xmin=0,xmax=200, color='g',label=\"A_fit\")\n",
    "                    if do_amplitude_base: ax[channel-1].hlines(uf.get_amplitude_base(popt,voltage[channel-1]),xmin=0,xmax=200, color='b',label=\"A_base\")\n",
    "                    if do_time_smooth: ax[channel-1].vlines(uf.get_time_smooth(popt,time,voltage[channel-1],5),ymin=35,ymax=65, color='orange',label=\"t_smooth_5\")\n",
    "                    \n",
    "                  \n",
    "            if verbose and (j < 10):\n",
    "                plt.legend()        \n",
    "                plt.show()\n",
    "                \n",
    "#print(f'Done!\\nTotal events analyzed: {len(din[\"ch2_chisq\"])}')\n",
    "tic = ttime.perf_counter_ns()\n",
    "print(f\"\\nTime: {(tic-toc)/1e6:.1f} ms\")\n",
    "\n",
    "dfin = pd.DataFrame(din)"
   ]
  },
  {
   "cell_type": "code",
   "execution_count": 8,
   "id": "6ccf4ae8-8c21-436f-a230-5a402d926dde",
   "metadata": {},
   "outputs": [
    {
     "data": {
      "text/plain": [
       "1.9424263952412558e+130"
      ]
     },
     "execution_count": 8,
     "metadata": {},
     "output_type": "execute_result"
    }
   ],
   "source": [
    "np.exp(-(115-112)/(-0.01))"
   ]
  },
  {
   "cell_type": "code",
   "execution_count": 15,
   "id": "3208d0fb",
   "metadata": {},
   "outputs": [
    {
     "data": {
      "image/png": "[encoded data removed]",
      "text/plain": [
       "<Figure size 432x288 with 1 Axes>"
      ]
     },
     "metadata": {
      "needs_background": "light"
     },
     "output_type": "display_data"
    }
   ],
   "source": [
    "plt.scatter(dfin.query(\"ch3_P2P_base>10 & ch4_P2P_base>10\").ch3_time_base,dfin.query(\"ch3_P2P_base>10 & ch4_P2P_base>10\").ch4_time_base,label=f\"{len(dfin.query('ch3_P2P_base>10 & ch4_P2P_base>10'))} Events\")\n",
    "plt.plot(np.linspace(85,100,2),np.linspace(85,100,2),color=\"red\",label=\"L=R\")\n",
    "plt.xlabel(\"SiPM_L Signal Time\")\n",
    "plt.ylabel(\"SiPM_R Signal Time\")\n",
    "plt.legend()\n",
    "plt.show()"
   ]
  },
  {
   "cell_type": "markdown",
   "id": "7603a077",
   "metadata": {},
   "source": [
    "### How to read the output file into DataFrame:"
   ]
  },
  {
   "cell_type": "code",
   "execution_count": null,
   "id": "b387b187",
   "metadata": {},
   "outputs": [],
   "source": [
    "#put your input file name here\n",
    "inputfile = '../Examples/howtouse.txt'\n",
    "\n",
    "with open(inputfile) as f:  \n",
    "    stats = []\n",
    "    nchannelnames=[]\n",
    "    nevents = (f.read().split('\\n'))\n",
    "    print(nevents[0].split('[')[2].split(']')[0].split(\"'\"))\n",
    "    nchannelnums = nevents[0].split('[')[1].split(']')[0].split(', ')\n",
    "    for ch in nchannelnums:\n",
    "        nchannelnames.append(f'ch{ch}')\n",
    "    for i in range(len(nevents[0].split('[')[2].split(']')[0].split(\"'\"))//2):\n",
    "        stats.append(nevents[0].split('[')[2].split(']')[0].split(\"'\")[2*i+1])\n",
    "\n",
    "    dout = {a+\"_\"+b:[] for a in nchannelnames for b in stats}\n",
    "    for event in nevents[:]:\n",
    "        #print(f'Event: {event}')\n",
    "        nvalues = event.split()\n",
    "        if len(nvalues) != len(stats)*len(nchannelnames): continue\n",
    "        for i in range(len(nchannelnames)):\n",
    "            for j in range(len(stats)):\n",
    "                dout[f'{nchannelnames[i]}_{stats[j]}'].append(float(nvalues[len(stats)*i+j]))\n",
    "    #print(dout)\n",
    "dfout = pd.DataFrame(dout)"
   ]
  },
  {
   "cell_type": "code",
   "execution_count": null,
   "id": "5023f1c6-13d1-40c3-950c-42b62776e739",
   "metadata": {},
   "outputs": [],
   "source": [
    "keys = ak.Array([[1],[],[2,3]])\n",
    "print(keys)\n",
    "ak.ArrayBuilder.append(keys[0],0)"
   ]
  },
  {
   "cell_type": "code",
   "execution_count": null,
   "id": "e30bc369-f84b-4264-92cc-57da3dc05257",
   "metadata": {},
   "outputs": [],
   "source": [
    "langs=[\"a lang\",\"another lang\",\"third lang\"]"
   ]
  },
  {
   "cell_type": "code",
   "execution_count": null,
   "id": "474ffd7c-1953-4d08-b1da-f54569e55868",
   "metadata": {},
   "outputs": [],
   "source": [
    "for i in enumerate(langs):\n",
    "    print(i)"
   ]
  },
  {
   "cell_type": "code",
   "execution_count": null,
   "id": "7b81390e",
   "metadata": {},
   "outputs": [],
   "source": [
    "enums = enumerate(langs)\n",
    "for n in enums:\n",
    "    print(n)"
   ]
  },
  {
   "cell_type": "code",
   "execution_count": null,
   "id": "566393f7-efa3-4283-896e-f283187387ce",
   "metadata": {},
   "outputs": [],
   "source": []
  },
  {
   "cell_type": "code",
   "execution_count": null,
   "id": "4a5bca42",
   "metadata": {},
   "outputs": [],
   "source": [
    "fig,ax=plt.subplots(1,3,figsize=(10,5))\n",
    "\n",
    "ax[0].scatter(dfout.query(\"ch3_P2P_fit>10 & ch4_P2P_fit>10\").ch3_time_fit,dfout.query(\"ch3_P2P_fit>10 & ch4_P2P_fit>10\").ch4_time_fit,label=f\"fit, {len(dfin.query('ch3_P2P_fit>10 & ch4_P2P_fit>10').ch4_time_fit)} Events\")\n",
    "ax[1].scatter(dfout.query(\"ch3_P2P_raw>10 & ch4_P2P_raw>10\").ch3_time_raw,dfout.query(\"ch3_P2P_raw>10 & ch4_P2P_raw>10\").ch4_time_raw,label=f\"raw, {len(dfin.query('ch3_P2P_raw>10 & ch4_P2P_raw>10').ch4_time_raw)} Events\")\n",
    "ax[0].plot(np.linspace(85,100,2),np.linspace(85,100,2),color=\"red\",label=\"L=R\")\n",
    "ax[0].set_xlabel(\"SiPM_L Signal Fit Time\")\n",
    "ax[0].set_ylabel(\"SiPM_R Signal Fit Time\")\n",
    "ax[1].plot(np.linspace(0,400,2),np.linspace(0,400,2),color=\"red\",label=\"L=R\")\n",
    "ax[1].set_xlabel(\"SiPM_L Signal Raw Time\")\n",
    "ax[1].set_ylabel(\"SiPM_R Signal Raw Time\")\n",
    "ax[0].legend()\n",
    "ax[1].legend()\n",
    "plt.show()"
   ]
  },
  {
   "cell_type": "code",
   "execution_count": null,
   "id": "aa8f0e47",
   "metadata": {},
   "outputs": [],
   "source": [
    "count,binedges,bars=plt.hist(dfin.query(\"ch3_P2P_fit>10 & ch4_P2P_fit>10\").ch4_time_fit-dfin.query(\"ch3_P2P_fit>10 & ch4_P2P_fit>10\").ch3_time_fit,40, label=f\"{len(dfin.query('ch3_P2P_fit>10 & ch4_P2P_fit>10').ch4_time_fit)} Events\")\n",
    "\n",
    "bincenters = binedges[1:]/2+binedges[:-1]/2\n",
    "\n",
    "avg = sum(bincenters*count)/sum(count)\n",
    "stdev = np.sqrt(sum((bincenters-avg)**2*count)/sum(count))\n",
    "\n",
    "\n",
    "coeff, covar = curve_fit(gaus, bincenters, count)\n",
    "print(f\"Actual Average: {avg:.2f}, Actual st.dev.: {stdev:.2f}\")\n",
    "print(f\"Fit Average:    {coeff[1]:.2f}, Fit st.dev.:    {coeff[2]:.2f}\")\n",
    "\n",
    "plt.plot(np.linspace(-20,10,50),gaus(np.linspace(-20,10,50),*coeff),label=\"Gaussian Fit\")\n",
    "plt.xlabel(\"R-L Time Difference (ns)\")\n",
    "plt.legend()\n",
    "plt.show()"
   ]
  },
  {
   "cell_type": "code",
   "execution_count": null,
   "id": "062e743f-d4e2-4e40-9752-ec2efee6a838",
   "metadata": {},
   "outputs": [],
   "source": [
    "count,binedges,bars=plt.hist(dfin.query(\"ch3_P2P_raw>10 & ch4_P2P_raw>10\").ch4_time_raw-dfin.query(\"ch3_P2P_raw>10 & ch4_P2P_raw>10\").ch3_time_raw,900, label=f\"{len(dfin.query('ch3_P2P_raw>10 & ch4_P2P_raw>10').ch4_time_raw)} Events\")\n",
    "\n",
    "bincenters = binedges[1:]/2+binedges[:-1]/2\n",
    "\n",
    "avg = sum(bincenters*count)/sum(count)\n",
    "stdev = np.sqrt(sum((bincenters-avg)**2*count)/sum(count))\n",
    "\n",
    "\n",
    "coeff, covar = curve_fit(gaus, bincenters, count,maxfev=10000000)\n",
    "print(f\"Actual Average: {avg:.2f}, Actual st.dev.: {stdev:.2f}\")\n",
    "print(f\"Fit Average:    {coeff[1]:.2f}, Fit st.dev.:    {coeff[2]:.2f}\")\n",
    "\n",
    "plt.plot(np.linspace(-10,10,50),gaus(np.linspace(-10,10,50),*coeff),label=\"Gaussian Fit\")\n",
    "plt.xlabel(\"R-L Time Difference (ns)\")\n",
    "plt.xlim(-20,20)\n",
    "plt.legend()\n",
    "plt.show()"
   ]
  }
 ],
 "metadata": {
  "kernelspec": {
   "display_name": "Python 3 (ipykernel)",
   "language": "python",
   "name": "python3"
  },
  "language_info": {
   "codemirror_mode": {
    "name": "ipython",
    "version": 3
   },
   "file_extension": ".py",
   "mimetype": "text/x-python",
   "name": "python",
   "nbconvert_exporter": "python",
   "pygments_lexer": "ipython3",
   "version": "3.9.12"
  }
 },
 "nbformat": 4,
 "nbformat_minor": 5
}
