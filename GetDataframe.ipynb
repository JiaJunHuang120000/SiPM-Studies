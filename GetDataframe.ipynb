{
 "cells": [
  {
   "cell_type": "code",
   "execution_count": null,
   "id": "16e9fafa-0608-4142-95c4-0496ace34100",
   "metadata": {},
   "outputs": [],
   "source": [
    "import UsefulFunctions as uf\n",
    "import pandas as pd"
   ]
  },
  {
   "cell_type": "code",
   "execution_count": null,
   "id": "979d6494-458e-4cea-ba61-221f1d84bd2a",
   "metadata": {},
   "outputs": [],
   "source": [
    "#build list of input files\n",
    "inputfiles = [\"../LongbarTiming-part2/3-2.txt\"]\n",
    "numinput = 18\n",
    "for i in range(numinput):\n",
    "    inputfiles.append(f\"../fcal_project/LongbarTiming-part2/3-{i+1}002.txt\")\n",
    "\n",
    "#choose which channels to analyze\n",
    "channelnum = [1,2,3,4]\n",
    "\n",
    "#set cut values\n",
    "rmscut = 1.5\n",
    "residualcut = 1000\n",
    "\n",
    "#choose which stats to calculate\n",
    "stats = [True,                         #chi^2\n",
    "         True,False,True,False,        #amplitude & time (raw, base, smooth, fit)\n",
    "         False]                        #CDF time -- not yet implemented\n",
    "\n",
    "#initial parameters for waveform fit -- if fit does not converge, set verbose=True and try to determine what the typical start/end times are;\n",
    "#The fit is very sensitive to the initial start/end parameters \n",
    "start = 50\n",
    "end = start+35\n",
    "p0=[(0,start,1,end,-100,100),       #ch1 initial parameters\n",
    "    (0,start,1,end,-100,100),       #ch2 initial parameters\n",
    "    (0,start,1,end,-100,100),        #ch3 initial parameters\n",
    "    (0,start,1,end,-100,100)]        #ch4 initial parameters\n",
    "\n",
    "#def get_dataframe(inputfiles, whichstats, channelnum=[1,2,3,4], rmscut=1.5, residualcut=5, p0=[],\n",
    "#do_residual=False, verbose=False,viewevents=10,vieweventstart=0,eventstart=1):\n",
    "\n"
   ]
  },
  {
   "cell_type": "code",
   "execution_count": null,
   "id": "fb2781f8-b296-4635-9fca-af0d5ec437fd",
   "metadata": {},
   "outputs": [],
   "source": [
    "dataframe = uf.get_dataframe(inputfiles,stats,p0 = p0,residualcut = 10,verbose=True)"
   ]
  },
  {
   "cell_type": "code",
   "execution_count": null,
   "id": "0fbd079b-5425-4760-b3aa-095f0a5d3eb4",
   "metadata": {},
   "outputs": [],
   "source": [
    "dataframe\n",
    "import pandas as pd\n",
    "import pickle\n",
    "pd.to_pickle(dataframe, \"LongbarTiming_part2_3-12.pkl\")"
   ]
  },
  {
   "cell_type": "code",
   "execution_count": null,
   "id": "67f02bf5-eeef-40f9-b3ee-7fff030f6709",
   "metadata": {},
   "outputs": [],
   "source": [
    "with open('LongbarTiming_part2_3-12.pkl', 'rb') as f:\n",
    "    fout = pickle.load(f)"
   ]
  },
  {
   "cell_type": "code",
   "execution_count": null,
   "id": "e22ee803-9707-43f3-9e6c-a84cd3195db7",
   "metadata": {},
   "outputs": [],
   "source": [
    "fout"
   ]
  },
  {
   "cell_type": "code",
   "execution_count": null,
   "id": "0b6c0c60-2ac3-4f03-9d66-8a63fdcc1c57",
   "metadata": {},
   "outputs": [],
   "source": []
  }
 ],
 "metadata": {
  "kernelspec": {
   "display_name": "Python 3 (ipykernel)",
   "language": "python",
   "name": "python3"
  },
  "language_info": {
   "codemirror_mode": {
    "name": "ipython",
    "version": 3
   },
   "file_extension": ".py",
   "mimetype": "text/x-python",
   "name": "python",
   "nbconvert_exporter": "python",
   "pygments_lexer": "ipython3",
   "version": "3.9.12"
  }
 },
 "nbformat": 4,
 "nbformat_minor": 5
}
