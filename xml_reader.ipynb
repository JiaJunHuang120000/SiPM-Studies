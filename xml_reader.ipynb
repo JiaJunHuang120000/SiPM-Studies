{
 "cells": [
  {
   "cell_type": "code",
   "execution_count": 1,
   "id": "78448453-75ed-45cd-8e31-640f54c38227",
   "metadata": {},
   "outputs": [],
   "source": [
    "import numpy as np\n",
    "import matplotlib.pyplot as plt\n",
    "from xml.dom import minidom"
   ]
  },
  {
   "cell_type": "code",
   "execution_count": 2,
   "id": "c19a1bb0-f48d-458c-b8f7-4127dacd5034",
   "metadata": {},
   "outputs": [],
   "source": [
    "file = minidom.parse('ch1 and 2, 10.xml')\n",
    "events = file.getElementsByTagName('Event')"
   ]
  },
  {
   "cell_type": "code",
   "execution_count": 8,
   "id": "d3ed9f70",
   "metadata": {},
   "outputs": [
    {
     "name": "stdout",
     "output_type": "stream",
     "text": [
      "[<DOM Element: Event at 0x1f785337160>, <DOM Element: Event at 0x1f78545b4c0>, <DOM Element: Event at 0x1f785578d30>, <DOM Element: Event at 0x1f7856975e0>, <DOM Element: Event at 0x1f7857b1d30>, <DOM Element: Event at 0x1f7858d15e0>, <DOM Element: Event at 0x1f7859ece50>, <DOM Element: Event at 0x1f785b0d700>, <DOM Element: Event at 0x1f785c28f70>, <DOM Element: Event at 0x1f785d48820>]\n",
      "\n",
      "    \n"
     ]
    }
   ],
   "source": [
    "print(events)\n"
   ]
  },
  {
   "cell_type": "code",
   "execution_count": 12,
   "id": "009628ba",
   "metadata": {},
   "outputs": [
    {
     "name": "stdout",
     "output_type": "stream",
     "text": [
      "<DOM Element: Event at 0x1f785337160>\n"
     ]
    }
   ],
   "source": [
    "print(events[0])"
   ]
  }
 ],
 "metadata": {
  "kernelspec": {
   "display_name": "Python 3 (ipykernel)",
   "language": "python",
   "name": "python3"
  },
  "language_info": {
   "codemirror_mode": {
    "name": "ipython",
    "version": 3
   },
   "file_extension": ".py",
   "mimetype": "text/x-python",
   "name": "python",
   "nbconvert_exporter": "python",
   "pygments_lexer": "ipython3",
   "version": "3.9.7"
  }
 },
 "nbformat": 4,
 "nbformat_minor": 5
}
